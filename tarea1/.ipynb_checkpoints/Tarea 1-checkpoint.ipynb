{
 "cells": [
  {
   "cell_type": "markdown",
   "metadata": {},
   "source": [
    "<h1>1. Regresión Lineal Ordinaria (LSS)</h1>"
   ]
  },
  {
   "cell_type": "code",
   "execution_count": 1,
   "metadata": {
    "collapsed": true
   },
   "outputs": [],
   "source": [
    "import numpy as np\n",
    "import pandas as pd"
   ]
  },
  {
   "cell_type": "markdown",
   "metadata": {},
   "source": [
    "a) Se elimina id, date y zipcode ya que no aportan informacion relevante en cuanto al precio de las casas"
   ]
  },
  {
   "cell_type": "code",
   "execution_count": 2,
   "metadata": {
    "collapsed": true
   },
   "outputs": [],
   "source": [
    "df = pd.read_csv(\"kc_house_data.csv\")\n",
    "df.drop(['id','date','zipcode',],axis=1,inplace=True)"
   ]
  },
  {
   "cell_type": "markdown",
   "metadata": {},
   "source": [
    "b) El dataset consta de 18 columnas o atributos, las cuales presentan valores no nulos y enteros o reales, un total de 21.613 instancias de casas.\n",
    "Todas las casas se encuentran localizadas en King County, esto se refleja en la media de la latitud y longitud (47.560053, -122.213896) y su baja desviasión estándar, la mayoria presenta entre 3 a 4 dormitorios y 1 a 2 baños, los demás datos presentan mayor dispersión por lo que no son muy útiles para generalizar."
   ]
  },
  {
   "cell_type": "code",
   "execution_count": 3,
   "metadata": {},
   "outputs": [
    {
     "name": "stdout",
     "output_type": "stream",
     "text": [
      "<class 'pandas.core.frame.DataFrame'>\n",
      "RangeIndex: 21613 entries, 0 to 21612\n",
      "Data columns (total 18 columns):\n",
      "price            21613 non-null float64\n",
      "bedrooms         21613 non-null int64\n",
      "bathrooms        21613 non-null float64\n",
      "sqft_living      21613 non-null int64\n",
      "sqft_lot         21613 non-null int64\n",
      "floors           21613 non-null float64\n",
      "waterfront       21613 non-null int64\n",
      "view             21613 non-null int64\n",
      "condition        21613 non-null int64\n",
      "grade            21613 non-null int64\n",
      "sqft_above       21613 non-null int64\n",
      "sqft_basement    21613 non-null int64\n",
      "yr_built         21613 non-null int64\n",
      "yr_renovated     21613 non-null int64\n",
      "lat              21613 non-null float64\n",
      "long             21613 non-null float64\n",
      "sqft_living15    21613 non-null int64\n",
      "sqft_lot15       21613 non-null int64\n",
      "dtypes: float64(5), int64(13)\n",
      "memory usage: 3.0 MB\n"
     ]
    },
    {
     "data": {
      "text/html": [
       "<div>\n",
       "<table border=\"1\" class=\"dataframe\">\n",
       "  <thead>\n",
       "    <tr style=\"text-align: right;\">\n",
       "      <th></th>\n",
       "      <th>price</th>\n",
       "      <th>bedrooms</th>\n",
       "      <th>bathrooms</th>\n",
       "      <th>sqft_living</th>\n",
       "      <th>sqft_lot</th>\n",
       "      <th>floors</th>\n",
       "      <th>waterfront</th>\n",
       "      <th>view</th>\n",
       "      <th>condition</th>\n",
       "      <th>grade</th>\n",
       "      <th>sqft_above</th>\n",
       "      <th>sqft_basement</th>\n",
       "      <th>yr_built</th>\n",
       "      <th>yr_renovated</th>\n",
       "      <th>lat</th>\n",
       "      <th>long</th>\n",
       "      <th>sqft_living15</th>\n",
       "      <th>sqft_lot15</th>\n",
       "    </tr>\n",
       "  </thead>\n",
       "  <tbody>\n",
       "    <tr>\n",
       "      <th>count</th>\n",
       "      <td>2.161300e+04</td>\n",
       "      <td>21613.000000</td>\n",
       "      <td>21613.000000</td>\n",
       "      <td>21613.000000</td>\n",
       "      <td>2.161300e+04</td>\n",
       "      <td>21613.000000</td>\n",
       "      <td>21613.000000</td>\n",
       "      <td>21613.000000</td>\n",
       "      <td>21613.000000</td>\n",
       "      <td>21613.000000</td>\n",
       "      <td>21613.000000</td>\n",
       "      <td>21613.000000</td>\n",
       "      <td>21613.000000</td>\n",
       "      <td>21613.000000</td>\n",
       "      <td>21613.000000</td>\n",
       "      <td>21613.000000</td>\n",
       "      <td>21613.000000</td>\n",
       "      <td>21613.000000</td>\n",
       "    </tr>\n",
       "    <tr>\n",
       "      <th>mean</th>\n",
       "      <td>5.400881e+05</td>\n",
       "      <td>3.370842</td>\n",
       "      <td>2.114757</td>\n",
       "      <td>2079.899736</td>\n",
       "      <td>1.510697e+04</td>\n",
       "      <td>1.494309</td>\n",
       "      <td>0.007542</td>\n",
       "      <td>0.234303</td>\n",
       "      <td>3.409430</td>\n",
       "      <td>7.656873</td>\n",
       "      <td>1788.390691</td>\n",
       "      <td>291.509045</td>\n",
       "      <td>1971.005136</td>\n",
       "      <td>84.402258</td>\n",
       "      <td>47.560053</td>\n",
       "      <td>-122.213896</td>\n",
       "      <td>1986.552492</td>\n",
       "      <td>12768.455652</td>\n",
       "    </tr>\n",
       "    <tr>\n",
       "      <th>std</th>\n",
       "      <td>3.671272e+05</td>\n",
       "      <td>0.930062</td>\n",
       "      <td>0.770163</td>\n",
       "      <td>918.440897</td>\n",
       "      <td>4.142051e+04</td>\n",
       "      <td>0.539989</td>\n",
       "      <td>0.086517</td>\n",
       "      <td>0.766318</td>\n",
       "      <td>0.650743</td>\n",
       "      <td>1.175459</td>\n",
       "      <td>828.090978</td>\n",
       "      <td>442.575043</td>\n",
       "      <td>29.373411</td>\n",
       "      <td>401.679240</td>\n",
       "      <td>0.138564</td>\n",
       "      <td>0.140828</td>\n",
       "      <td>685.391304</td>\n",
       "      <td>27304.179631</td>\n",
       "    </tr>\n",
       "    <tr>\n",
       "      <th>min</th>\n",
       "      <td>7.500000e+04</td>\n",
       "      <td>0.000000</td>\n",
       "      <td>0.000000</td>\n",
       "      <td>290.000000</td>\n",
       "      <td>5.200000e+02</td>\n",
       "      <td>1.000000</td>\n",
       "      <td>0.000000</td>\n",
       "      <td>0.000000</td>\n",
       "      <td>1.000000</td>\n",
       "      <td>1.000000</td>\n",
       "      <td>290.000000</td>\n",
       "      <td>0.000000</td>\n",
       "      <td>1900.000000</td>\n",
       "      <td>0.000000</td>\n",
       "      <td>47.155900</td>\n",
       "      <td>-122.519000</td>\n",
       "      <td>399.000000</td>\n",
       "      <td>651.000000</td>\n",
       "    </tr>\n",
       "    <tr>\n",
       "      <th>25%</th>\n",
       "      <td>3.219500e+05</td>\n",
       "      <td>3.000000</td>\n",
       "      <td>1.750000</td>\n",
       "      <td>1427.000000</td>\n",
       "      <td>5.040000e+03</td>\n",
       "      <td>1.000000</td>\n",
       "      <td>0.000000</td>\n",
       "      <td>0.000000</td>\n",
       "      <td>3.000000</td>\n",
       "      <td>7.000000</td>\n",
       "      <td>1190.000000</td>\n",
       "      <td>0.000000</td>\n",
       "      <td>1951.000000</td>\n",
       "      <td>0.000000</td>\n",
       "      <td>47.471000</td>\n",
       "      <td>-122.328000</td>\n",
       "      <td>1490.000000</td>\n",
       "      <td>5100.000000</td>\n",
       "    </tr>\n",
       "    <tr>\n",
       "      <th>50%</th>\n",
       "      <td>4.500000e+05</td>\n",
       "      <td>3.000000</td>\n",
       "      <td>2.250000</td>\n",
       "      <td>1910.000000</td>\n",
       "      <td>7.618000e+03</td>\n",
       "      <td>1.500000</td>\n",
       "      <td>0.000000</td>\n",
       "      <td>0.000000</td>\n",
       "      <td>3.000000</td>\n",
       "      <td>7.000000</td>\n",
       "      <td>1560.000000</td>\n",
       "      <td>0.000000</td>\n",
       "      <td>1975.000000</td>\n",
       "      <td>0.000000</td>\n",
       "      <td>47.571800</td>\n",
       "      <td>-122.230000</td>\n",
       "      <td>1840.000000</td>\n",
       "      <td>7620.000000</td>\n",
       "    </tr>\n",
       "    <tr>\n",
       "      <th>75%</th>\n",
       "      <td>6.450000e+05</td>\n",
       "      <td>4.000000</td>\n",
       "      <td>2.500000</td>\n",
       "      <td>2550.000000</td>\n",
       "      <td>1.068800e+04</td>\n",
       "      <td>2.000000</td>\n",
       "      <td>0.000000</td>\n",
       "      <td>0.000000</td>\n",
       "      <td>4.000000</td>\n",
       "      <td>8.000000</td>\n",
       "      <td>2210.000000</td>\n",
       "      <td>560.000000</td>\n",
       "      <td>1997.000000</td>\n",
       "      <td>0.000000</td>\n",
       "      <td>47.678000</td>\n",
       "      <td>-122.125000</td>\n",
       "      <td>2360.000000</td>\n",
       "      <td>10083.000000</td>\n",
       "    </tr>\n",
       "    <tr>\n",
       "      <th>max</th>\n",
       "      <td>7.700000e+06</td>\n",
       "      <td>33.000000</td>\n",
       "      <td>8.000000</td>\n",
       "      <td>13540.000000</td>\n",
       "      <td>1.651359e+06</td>\n",
       "      <td>3.500000</td>\n",
       "      <td>1.000000</td>\n",
       "      <td>4.000000</td>\n",
       "      <td>5.000000</td>\n",
       "      <td>13.000000</td>\n",
       "      <td>9410.000000</td>\n",
       "      <td>4820.000000</td>\n",
       "      <td>2015.000000</td>\n",
       "      <td>2015.000000</td>\n",
       "      <td>47.777600</td>\n",
       "      <td>-121.315000</td>\n",
       "      <td>6210.000000</td>\n",
       "      <td>871200.000000</td>\n",
       "    </tr>\n",
       "  </tbody>\n",
       "</table>\n",
       "</div>"
      ],
      "text/plain": [
       "              price      bedrooms     bathrooms   sqft_living      sqft_lot  \\\n",
       "count  2.161300e+04  21613.000000  21613.000000  21613.000000  2.161300e+04   \n",
       "mean   5.400881e+05      3.370842      2.114757   2079.899736  1.510697e+04   \n",
       "std    3.671272e+05      0.930062      0.770163    918.440897  4.142051e+04   \n",
       "min    7.500000e+04      0.000000      0.000000    290.000000  5.200000e+02   \n",
       "25%    3.219500e+05      3.000000      1.750000   1427.000000  5.040000e+03   \n",
       "50%    4.500000e+05      3.000000      2.250000   1910.000000  7.618000e+03   \n",
       "75%    6.450000e+05      4.000000      2.500000   2550.000000  1.068800e+04   \n",
       "max    7.700000e+06     33.000000      8.000000  13540.000000  1.651359e+06   \n",
       "\n",
       "             floors    waterfront          view     condition         grade  \\\n",
       "count  21613.000000  21613.000000  21613.000000  21613.000000  21613.000000   \n",
       "mean       1.494309      0.007542      0.234303      3.409430      7.656873   \n",
       "std        0.539989      0.086517      0.766318      0.650743      1.175459   \n",
       "min        1.000000      0.000000      0.000000      1.000000      1.000000   \n",
       "25%        1.000000      0.000000      0.000000      3.000000      7.000000   \n",
       "50%        1.500000      0.000000      0.000000      3.000000      7.000000   \n",
       "75%        2.000000      0.000000      0.000000      4.000000      8.000000   \n",
       "max        3.500000      1.000000      4.000000      5.000000     13.000000   \n",
       "\n",
       "         sqft_above  sqft_basement      yr_built  yr_renovated           lat  \\\n",
       "count  21613.000000   21613.000000  21613.000000  21613.000000  21613.000000   \n",
       "mean    1788.390691     291.509045   1971.005136     84.402258     47.560053   \n",
       "std      828.090978     442.575043     29.373411    401.679240      0.138564   \n",
       "min      290.000000       0.000000   1900.000000      0.000000     47.155900   \n",
       "25%     1190.000000       0.000000   1951.000000      0.000000     47.471000   \n",
       "50%     1560.000000       0.000000   1975.000000      0.000000     47.571800   \n",
       "75%     2210.000000     560.000000   1997.000000      0.000000     47.678000   \n",
       "max     9410.000000    4820.000000   2015.000000   2015.000000     47.777600   \n",
       "\n",
       "               long  sqft_living15     sqft_lot15  \n",
       "count  21613.000000   21613.000000   21613.000000  \n",
       "mean    -122.213896    1986.552492   12768.455652  \n",
       "std        0.140828     685.391304   27304.179631  \n",
       "min     -122.519000     399.000000     651.000000  \n",
       "25%     -122.328000    1490.000000    5100.000000  \n",
       "50%     -122.230000    1840.000000    7620.000000  \n",
       "75%     -122.125000    2360.000000   10083.000000  \n",
       "max     -121.315000    6210.000000  871200.000000  "
      ]
     },
     "execution_count": 3,
     "metadata": {},
     "output_type": "execute_result"
    }
   ],
   "source": [
    "df.head()\n",
    "df.shape\n",
    "df.info()\n",
    "df.describe()"
   ]
  },
  {
   "cell_type": "markdown",
   "metadata": {},
   "source": [
    "c) Esta parte corresponde al preprocesamiento de los datos, y es utilizado cuando los datos tienen valores muy dispersos (en este caso casi todos exceptuando: 'bedrooms', 'bathrooms', 'lat', 'long'). La motivación detrás de esto radica en que algunos algoritmos, la función objetivo no funciona muy bien sin antes realizar normalización, es decir los datos deben comportarse parecido a una distribución normal estándar.\n",
    "Luego se aplica función logaritmo al valor del precio ya que lo que nos interesa son los cambios relativos de este valor según los atributos en juego."
   ]
  },
  {
   "cell_type": "code",
   "execution_count": 1,
   "metadata": {},
   "outputs": [
    {
     "ename": "ImportError",
     "evalue": "No module named functools_lru_cache",
     "output_type": "error",
     "traceback": [
      "\u001b[0;31m---------------------------------------------------------------------------\u001b[0m",
      "\u001b[0;31mImportError\u001b[0m                               Traceback (most recent call last)",
      "\u001b[0;32m<ipython-input-1-1b69db2e6855>\u001b[0m in \u001b[0;36m<module>\u001b[0;34m()\u001b[0m\n\u001b[1;32m      1\u001b[0m \u001b[0;32mfrom\u001b[0m \u001b[0msklearn\u001b[0m\u001b[0;34m.\u001b[0m\u001b[0mpreprocessing\u001b[0m \u001b[0;32mimport\u001b[0m \u001b[0mStandardScaler\u001b[0m\u001b[0;34m\u001b[0m\u001b[0m\n\u001b[0;32m----> 2\u001b[0;31m \u001b[0;32mimport\u001b[0m \u001b[0mmatplotlib\u001b[0m\u001b[0;34m.\u001b[0m\u001b[0mpyplot\u001b[0m \u001b[0;32mas\u001b[0m \u001b[0mplt\u001b[0m\u001b[0;34m\u001b[0m\u001b[0m\n\u001b[0m\u001b[1;32m      3\u001b[0m \u001b[0mscaler\u001b[0m \u001b[0;34m=\u001b[0m \u001b[0mStandardScaler\u001b[0m\u001b[0;34m(\u001b[0m\u001b[0;34m)\u001b[0m\u001b[0;34m\u001b[0m\u001b[0m\n\u001b[1;32m      4\u001b[0m \u001b[0mdf_scaled\u001b[0m \u001b[0;34m=\u001b[0m \u001b[0mpd\u001b[0m\u001b[0;34m.\u001b[0m\u001b[0mDataFrame\u001b[0m\u001b[0;34m(\u001b[0m\u001b[0mscaler\u001b[0m\u001b[0;34m.\u001b[0m\u001b[0mfit_transform\u001b[0m\u001b[0;34m(\u001b[0m\u001b[0mdf\u001b[0m\u001b[0;34m)\u001b[0m\u001b[0;34m,\u001b[0m \u001b[0mcolumns\u001b[0m\u001b[0;34m=\u001b[0m\u001b[0mdf\u001b[0m\u001b[0;34m.\u001b[0m\u001b[0mcolumns\u001b[0m\u001b[0;34m)\u001b[0m\u001b[0;34m\u001b[0m\u001b[0m\n\u001b[1;32m      5\u001b[0m \u001b[0mdf_scaled\u001b[0m\u001b[0;34m[\u001b[0m\u001b[0;34m'price'\u001b[0m\u001b[0;34m]\u001b[0m \u001b[0;34m=\u001b[0m \u001b[0mnp\u001b[0m\u001b[0;34m.\u001b[0m\u001b[0mlog\u001b[0m\u001b[0;34m(\u001b[0m\u001b[0mdf\u001b[0m\u001b[0;34m[\u001b[0m\u001b[0;34m'price'\u001b[0m\u001b[0;34m]\u001b[0m\u001b[0;34m)\u001b[0m\u001b[0;34m\u001b[0m\u001b[0m\n",
      "\u001b[0;32m/home/sebastian/.local/lib/python2.7/site-packages/matplotlib/__init__.py\u001b[0m in \u001b[0;36m<module>\u001b[0;34m()\u001b[0m\n\u001b[1;32m    126\u001b[0m     _backports, mplDeprecation, dedent, get_label, sanitize_sequence)\n\u001b[1;32m    127\u001b[0m \u001b[0;32mfrom\u001b[0m \u001b[0mmatplotlib\u001b[0m\u001b[0;34m.\u001b[0m\u001b[0mcompat\u001b[0m \u001b[0;32mimport\u001b[0m \u001b[0msubprocess\u001b[0m\u001b[0;34m\u001b[0m\u001b[0m\n\u001b[0;32m--> 128\u001b[0;31m \u001b[0;32mfrom\u001b[0m \u001b[0mmatplotlib\u001b[0m\u001b[0;34m.\u001b[0m\u001b[0mrcsetup\u001b[0m \u001b[0;32mimport\u001b[0m \u001b[0mdefaultParams\u001b[0m\u001b[0;34m,\u001b[0m \u001b[0mvalidate_backend\u001b[0m\u001b[0;34m,\u001b[0m \u001b[0mcycler\u001b[0m\u001b[0;34m\u001b[0m\u001b[0m\n\u001b[0m\u001b[1;32m    129\u001b[0m \u001b[0;34m\u001b[0m\u001b[0m\n\u001b[1;32m    130\u001b[0m \u001b[0;32mimport\u001b[0m \u001b[0mnumpy\u001b[0m\u001b[0;34m\u001b[0m\u001b[0m\n",
      "\u001b[0;32m/home/sebastian/.local/lib/python2.7/site-packages/matplotlib/rcsetup.py\u001b[0m in \u001b[0;36m<module>\u001b[0;34m()\u001b[0m\n\u001b[1;32m     27\u001b[0m \u001b[0;34m\u001b[0m\u001b[0m\n\u001b[1;32m     28\u001b[0m \u001b[0;32mfrom\u001b[0m \u001b[0mmatplotlib\u001b[0m\u001b[0;34m.\u001b[0m\u001b[0mcbook\u001b[0m \u001b[0;32mimport\u001b[0m \u001b[0mmplDeprecation\u001b[0m\u001b[0;34m,\u001b[0m \u001b[0mdeprecated\u001b[0m\u001b[0;34m,\u001b[0m \u001b[0mls_mapper\u001b[0m\u001b[0;34m\u001b[0m\u001b[0m\n\u001b[0;32m---> 29\u001b[0;31m \u001b[0;32mfrom\u001b[0m \u001b[0mmatplotlib\u001b[0m\u001b[0;34m.\u001b[0m\u001b[0mfontconfig_pattern\u001b[0m \u001b[0;32mimport\u001b[0m \u001b[0mparse_fontconfig_pattern\u001b[0m\u001b[0;34m\u001b[0m\u001b[0m\n\u001b[0m\u001b[1;32m     30\u001b[0m \u001b[0;32mfrom\u001b[0m \u001b[0mmatplotlib\u001b[0m\u001b[0;34m.\u001b[0m\u001b[0mcolors\u001b[0m \u001b[0;32mimport\u001b[0m \u001b[0mis_color_like\u001b[0m\u001b[0;34m\u001b[0m\u001b[0m\n\u001b[1;32m     31\u001b[0m \u001b[0;34m\u001b[0m\u001b[0m\n",
      "\u001b[0;32m/home/sebastian/.local/lib/python2.7/site-packages/matplotlib/fontconfig_pattern.py\u001b[0m in \u001b[0;36m<module>\u001b[0;34m()\u001b[0m\n\u001b[1;32m     30\u001b[0m     \u001b[0;32mfrom\u001b[0m \u001b[0mfunctools\u001b[0m \u001b[0;32mimport\u001b[0m \u001b[0mlru_cache\u001b[0m\u001b[0;34m\u001b[0m\u001b[0m\n\u001b[1;32m     31\u001b[0m \u001b[0;32mexcept\u001b[0m \u001b[0mImportError\u001b[0m\u001b[0;34m:\u001b[0m\u001b[0;34m\u001b[0m\u001b[0m\n\u001b[0;32m---> 32\u001b[0;31m     \u001b[0;32mfrom\u001b[0m \u001b[0mbackports\u001b[0m\u001b[0;34m.\u001b[0m\u001b[0mfunctools_lru_cache\u001b[0m \u001b[0;32mimport\u001b[0m \u001b[0mlru_cache\u001b[0m\u001b[0;34m\u001b[0m\u001b[0m\n\u001b[0m\u001b[1;32m     33\u001b[0m \u001b[0;34m\u001b[0m\u001b[0m\n\u001b[1;32m     34\u001b[0m \u001b[0mfamily_punc\u001b[0m \u001b[0;34m=\u001b[0m \u001b[0;34mr'\\\\\\-:,'\u001b[0m\u001b[0;34m\u001b[0m\u001b[0m\n",
      "\u001b[0;31mImportError\u001b[0m: No module named functools_lru_cache"
     ]
    }
   ],
   "source": [
    "from sklearn.preprocessing import StandardScaler\n",
    "import matplotlib.pyplot as plt\n",
    "scaler = StandardScaler()\n",
    "df_scaled = pd.DataFrame(scaler.fit_transform(df), columns=df.columns)\n",
    "df_scaled['price'] = np.log(df['price'])\n",
    "df_scaled.describe()"
   ]
  },
  {
   "cell_type": "markdown",
   "metadata": {},
   "source": [
    "d) Los datos ya se han centrado (paso anterior) por lo que el parametro 'fit_intercept' no se utilizará.\n",
    "Luego nos interesan todas las columnas exceptuando 'price' ya que solo se quiere incluir los parámetros como los valores de $X$. La linea 4 añade la columna nº18 (luego de eliminar la columna *'price'*) de intercepto, este paso es el mismo realizado en clases en donde el intercepto de la ecuación lineal que representa el comportamiento del precio de acuerdo a los atributos es añadido al dataset o matriz de parámetros $X$ con el fin de encapsular el parámetro desconocido (*$b_0$*) en un solo vector (columna).\n",
    "\n",
    "Como se mencionó anteriormente, *'fit_intercept'* no se utilizará ya que el intercepto es eliminado de la ecuación lineal e integrado a la matriz de parámetros por lo tanto en los argumentos de la función que implementa la regresión lineal no será necesario. Luego *'normalize'* es ignorado ya que esto se realizo en el paso anterior y *'n_jobs'* es utilizado para dividir el trabajo en multiples CPUs.\n"
   ]
  },
  {
   "cell_type": "code",
   "execution_count": 5,
   "metadata": {},
   "outputs": [
    {
     "data": {
      "text/plain": [
       "LinearRegression(copy_X=True, fit_intercept=False, n_jobs=1, normalize=False)"
      ]
     },
     "execution_count": 5,
     "metadata": {},
     "output_type": "execute_result"
    }
   ],
   "source": [
    "import sklearn.linear_model as lm\n",
    "X = df_scaled.iloc[:,1:] #use .ix instead, in older pandas version //Se consideran todas las filas y columnas menos 'price'\n",
    "N = X.shape[0] #Cantidad de filas\n",
    "X.insert(X.shape[1], 'intercept', np.ones(N)) #X.shape[1] = dimensionalidad de datos (18, incluyendo intercepto)\n",
    "y = df_scaled['price']\n",
    "\n",
    "#mascara estatica con el 70% de los datos\n",
    "mascara = np.zeros(len(X))\n",
    "limit = int(len(X)*0.7)\n",
    "mascara[:limit] = 1\n",
    "istrain = mascara == 1\n",
    "Xtrain = X[istrain]\n",
    "ytrain = y[istrain]\n",
    "Xtest = X[np.logical_not(istrain)]\n",
    "ytest = y[np.logical_not(istrain)]\n",
    "\n",
    "linreg = lm.LinearRegression(fit_intercept = False)\n",
    "linreg.fit(Xtrain, ytrain)\n",
    "#predictions_train = linreg.predict(x_train)\n",
    "#residuals_train = predictions_train - ytrain"
   ]
  },
  {
   "cell_type": "code",
   "execution_count": null,
   "metadata": {
    "collapsed": true,
    "scrolled": true
   },
   "outputs": [],
   "source": [
    "linreg.score(Xtest, ytest) #Coeficiente de determinacion R^2"
   ]
  },
  {
   "cell_type": "markdown",
   "metadata": {},
   "source": [
    "e) Las variables con mayor peso o coeficiente mas alto en valor absoluto son *'sqft_living'*, *'sqft_above'* y *'sqft_basement'* por lo que es tentador decir que son las variables que mas influyen en el modelo, sin embargo las variables que están mas correlacionadas con la respuesta son todas exceptuando *'sqft_basement'*, *'sqft_above'*, *'sqft_living'* ya que las variables mencionadas son las que presentan *z-scores* menores a 1.960 en valor absoluto, lo que significa que con un nivel de significancia del 5% estos atributos no son de importancia, con un nivel de significancia del 1% el atributo *'sqft_lot15'* tambien es de poca relevancia (|z-score| > 2.576).\n",
    "Esto se debe a la alta desviación estandar presente en los atributos mencionados, lo que conlleva a bajar su *z-score*, además es muy probable que su alto peso sea producto de un error de aleatoriedad de la muestra."
   ]
  },
  {
   "cell_type": "code",
   "execution_count": 6,
   "metadata": {},
   "outputs": [
    {
     "data": {
      "text/html": [
       "<div>\n",
       "<table border=\"1\" class=\"dataframe\">\n",
       "  <thead>\n",
       "    <tr style=\"text-align: right;\">\n",
       "      <th></th>\n",
       "      <th>Atributos</th>\n",
       "      <th>Pesos</th>\n",
       "      <th>sd</th>\n",
       "      <th>Z-score</th>\n",
       "    </tr>\n",
       "  </thead>\n",
       "  <tbody>\n",
       "    <tr>\n",
       "      <th>0</th>\n",
       "      <td>bedrooms</td>\n",
       "      <td>-1.137666e-02</td>\n",
       "      <td>3.256484e-03</td>\n",
       "      <td>-3.580185</td>\n",
       "    </tr>\n",
       "    <tr>\n",
       "      <th>1</th>\n",
       "      <td>bathrooms</td>\n",
       "      <td>5.664423e-02</td>\n",
       "      <td>3.852958e-03</td>\n",
       "      <td>14.706149</td>\n",
       "    </tr>\n",
       "    <tr>\n",
       "      <th>2</th>\n",
       "      <td>sqft_living</td>\n",
       "      <td>-1.091202e+12</td>\n",
       "      <td>5.807004e+11</td>\n",
       "      <td>-1.922419</td>\n",
       "    </tr>\n",
       "    <tr>\n",
       "      <th>3</th>\n",
       "      <td>sqft_lot</td>\n",
       "      <td>2.186016e-02</td>\n",
       "      <td>2.930036e-03</td>\n",
       "      <td>7.549545</td>\n",
       "    </tr>\n",
       "    <tr>\n",
       "      <th>4</th>\n",
       "      <td>floors</td>\n",
       "      <td>3.741344e-02</td>\n",
       "      <td>3.090969e-03</td>\n",
       "      <td>11.986294</td>\n",
       "    </tr>\n",
       "    <tr>\n",
       "      <th>5</th>\n",
       "      <td>waterfront</td>\n",
       "      <td>3.370060e-02</td>\n",
       "      <td>2.278501e-03</td>\n",
       "      <td>14.761486</td>\n",
       "    </tr>\n",
       "    <tr>\n",
       "      <th>6</th>\n",
       "      <td>view</td>\n",
       "      <td>4.176399e-02</td>\n",
       "      <td>2.430885e-03</td>\n",
       "      <td>17.322679</td>\n",
       "    </tr>\n",
       "    <tr>\n",
       "      <th>7</th>\n",
       "      <td>condition</td>\n",
       "      <td>4.571693e-02</td>\n",
       "      <td>2.218095e-03</td>\n",
       "      <td>20.306172</td>\n",
       "    </tr>\n",
       "    <tr>\n",
       "      <th>8</th>\n",
       "      <td>grade</td>\n",
       "      <td>1.863173e-01</td>\n",
       "      <td>3.893343e-03</td>\n",
       "      <td>47.886550</td>\n",
       "    </tr>\n",
       "    <tr>\n",
       "      <th>9</th>\n",
       "      <td>sqft_above</td>\n",
       "      <td>9.838574e+11</td>\n",
       "      <td>5.235751e+11</td>\n",
       "      <td>1.922419</td>\n",
       "    </tr>\n",
       "    <tr>\n",
       "      <th>10</th>\n",
       "      <td>sqft_basement</td>\n",
       "      <td>5.258247e+11</td>\n",
       "      <td>2.798259e+11</td>\n",
       "      <td>1.922419</td>\n",
       "    </tr>\n",
       "    <tr>\n",
       "      <th>11</th>\n",
       "      <td>yr_built</td>\n",
       "      <td>-1.101074e-01</td>\n",
       "      <td>3.280177e-03</td>\n",
       "      <td>-33.672353</td>\n",
       "    </tr>\n",
       "    <tr>\n",
       "      <th>12</th>\n",
       "      <td>yr_renovated</td>\n",
       "      <td>1.458740e-02</td>\n",
       "      <td>2.174547e-03</td>\n",
       "      <td>6.565722</td>\n",
       "    </tr>\n",
       "    <tr>\n",
       "      <th>13</th>\n",
       "      <td>lat</td>\n",
       "      <td>1.857910e-01</td>\n",
       "      <td>2.189857e-03</td>\n",
       "      <td>84.891693</td>\n",
       "    </tr>\n",
       "    <tr>\n",
       "      <th>14</th>\n",
       "      <td>long</td>\n",
       "      <td>-3.967285e-03</td>\n",
       "      <td>2.581106e-03</td>\n",
       "      <td>-1.683407</td>\n",
       "    </tr>\n",
       "    <tr>\n",
       "      <th>15</th>\n",
       "      <td>sqft_living15</td>\n",
       "      <td>8.630371e-02</td>\n",
       "      <td>3.662733e-03</td>\n",
       "      <td>23.449256</td>\n",
       "    </tr>\n",
       "    <tr>\n",
       "      <th>16</th>\n",
       "      <td>sqft_lot15</td>\n",
       "      <td>-6.652832e-03</td>\n",
       "      <td>3.006779e-03</td>\n",
       "      <td>-2.221750</td>\n",
       "    </tr>\n",
       "    <tr>\n",
       "      <th>17</th>\n",
       "      <td>intercept</td>\n",
       "      <td>1.304017e+01</td>\n",
       "      <td>2.105890e-03</td>\n",
       "      <td>6192.026600</td>\n",
       "    </tr>\n",
       "  </tbody>\n",
       "</table>\n",
       "</div>"
      ],
      "text/plain": [
       "        Atributos         Pesos            sd      Z-score\n",
       "0        bedrooms -1.137666e-02  3.256484e-03    -3.580185\n",
       "1       bathrooms  5.664423e-02  3.852958e-03    14.706149\n",
       "2     sqft_living -1.091202e+12  5.807004e+11    -1.922419\n",
       "3        sqft_lot  2.186016e-02  2.930036e-03     7.549545\n",
       "4          floors  3.741344e-02  3.090969e-03    11.986294\n",
       "5      waterfront  3.370060e-02  2.278501e-03    14.761486\n",
       "6            view  4.176399e-02  2.430885e-03    17.322679\n",
       "7       condition  4.571693e-02  2.218095e-03    20.306172\n",
       "8           grade  1.863173e-01  3.893343e-03    47.886550\n",
       "9      sqft_above  9.838574e+11  5.235751e+11     1.922419\n",
       "10  sqft_basement  5.258247e+11  2.798259e+11     1.922419\n",
       "11       yr_built -1.101074e-01  3.280177e-03   -33.672353\n",
       "12   yr_renovated  1.458740e-02  2.174547e-03     6.565722\n",
       "13            lat  1.857910e-01  2.189857e-03    84.891693\n",
       "14           long -3.967285e-03  2.581106e-03    -1.683407\n",
       "15  sqft_living15  8.630371e-02  3.662733e-03    23.449256\n",
       "16     sqft_lot15 -6.652832e-03  3.006779e-03    -2.221750\n",
       "17      intercept  1.304017e+01  2.105890e-03  6192.026600"
      ]
     },
     "execution_count": 6,
     "metadata": {},
     "output_type": "execute_result"
    }
   ],
   "source": [
    "import statsmodels.api as sm\n",
    "model = sm.OLS(ytrain,Xtrain).fit()\n",
    "predictions = model.predict(Xtrain)\n",
    "#model.summary()\n",
    "zscore_e = model.params/model.bse\n",
    "\n",
    "from scipy.stats import zscore as zs\n",
    "df_e = pd.DataFrame(zip(X.columns, linreg.coef_,model.bse,zscore_e,), columns = ['Atributos', 'Pesos', 'sd' ,'Z-score'])\n",
    "df_e"
   ]
  },
  {
   "cell_type": "code",
   "execution_count": 7,
   "metadata": {},
   "outputs": [
    {
     "data": {
      "text/plain": [
       "0.76531594743585996"
      ]
     },
     "execution_count": 7,
     "metadata": {},
     "output_type": "execute_result"
    }
   ],
   "source": [
    "model.rsquared"
   ]
  },
  {
   "cell_type": "markdown",
   "metadata": {},
   "source": [
    "f) Se tiene que las variables *'sqft_living'* y *'sqft_lot'* estan relacionadas con *'sqft_above'* y *'sqft_basement'* por lo que eliminar cualquiera de estos pares ayudaria a disminuir las variables redundantes, se probó eliminado un par y luego otro, finalmente se tiene que al sacar *'sqft_above'* y *'sqft_basement'* se obtiene un aumento en los *z-scores* del otro par por sobre el valor necesario para ser considerados importantes con un nivel de significancia del 5% (|z-score| > 1.960). Tambien se elimina la variable longitud ya que su *z-score* era menor a 1.960 por lo que no es importante con un 95% de confianza."
   ]
  },
  {
   "cell_type": "code",
   "execution_count": 8,
   "metadata": {},
   "outputs": [
    {
     "data": {
      "text/html": [
       "<div>\n",
       "<table border=\"1\" class=\"dataframe\">\n",
       "  <thead>\n",
       "    <tr style=\"text-align: right;\">\n",
       "      <th></th>\n",
       "      <th>Atributos</th>\n",
       "      <th>Pesos</th>\n",
       "      <th>sd</th>\n",
       "      <th>Z-score</th>\n",
       "    </tr>\n",
       "  </thead>\n",
       "  <tbody>\n",
       "    <tr>\n",
       "      <th>0</th>\n",
       "      <td>bedrooms</td>\n",
       "      <td>-0.008217</td>\n",
       "      <td>0.002725</td>\n",
       "      <td>-3.015137</td>\n",
       "    </tr>\n",
       "    <tr>\n",
       "      <th>1</th>\n",
       "      <td>bathrooms</td>\n",
       "      <td>0.057625</td>\n",
       "      <td>0.003769</td>\n",
       "      <td>15.287223</td>\n",
       "    </tr>\n",
       "    <tr>\n",
       "      <th>2</th>\n",
       "      <td>sqft_living</td>\n",
       "      <td>0.115111</td>\n",
       "      <td>0.004643</td>\n",
       "      <td>24.794540</td>\n",
       "    </tr>\n",
       "    <tr>\n",
       "      <th>3</th>\n",
       "      <td>sqft_lot</td>\n",
       "      <td>0.021568</td>\n",
       "      <td>0.002910</td>\n",
       "      <td>7.412081</td>\n",
       "    </tr>\n",
       "    <tr>\n",
       "      <th>4</th>\n",
       "      <td>floors</td>\n",
       "      <td>0.034430</td>\n",
       "      <td>0.002688</td>\n",
       "      <td>12.809832</td>\n",
       "    </tr>\n",
       "    <tr>\n",
       "      <th>5</th>\n",
       "      <td>waterfront</td>\n",
       "      <td>0.033372</td>\n",
       "      <td>0.002266</td>\n",
       "      <td>14.726030</td>\n",
       "    </tr>\n",
       "    <tr>\n",
       "      <th>6</th>\n",
       "      <td>view</td>\n",
       "      <td>0.043536</td>\n",
       "      <td>0.002370</td>\n",
       "      <td>18.367925</td>\n",
       "    </tr>\n",
       "    <tr>\n",
       "      <th>7</th>\n",
       "      <td>condition</td>\n",
       "      <td>0.045447</td>\n",
       "      <td>0.002196</td>\n",
       "      <td>20.694036</td>\n",
       "    </tr>\n",
       "    <tr>\n",
       "      <th>8</th>\n",
       "      <td>grade</td>\n",
       "      <td>0.185705</td>\n",
       "      <td>0.003799</td>\n",
       "      <td>48.886918</td>\n",
       "    </tr>\n",
       "    <tr>\n",
       "      <th>9</th>\n",
       "      <td>yr_built</td>\n",
       "      <td>-0.112323</td>\n",
       "      <td>0.003027</td>\n",
       "      <td>-37.106397</td>\n",
       "    </tr>\n",
       "    <tr>\n",
       "      <th>10</th>\n",
       "      <td>yr_renovated</td>\n",
       "      <td>0.014598</td>\n",
       "      <td>0.002145</td>\n",
       "      <td>6.805607</td>\n",
       "    </tr>\n",
       "    <tr>\n",
       "      <th>11</th>\n",
       "      <td>lat</td>\n",
       "      <td>0.186964</td>\n",
       "      <td>0.002157</td>\n",
       "      <td>86.683118</td>\n",
       "    </tr>\n",
       "    <tr>\n",
       "      <th>12</th>\n",
       "      <td>sqft_living15</td>\n",
       "      <td>0.083247</td>\n",
       "      <td>0.003527</td>\n",
       "      <td>23.603862</td>\n",
       "    </tr>\n",
       "    <tr>\n",
       "      <th>13</th>\n",
       "      <td>sqft_lot15</td>\n",
       "      <td>-0.007767</td>\n",
       "      <td>0.002972</td>\n",
       "      <td>-2.613409</td>\n",
       "    </tr>\n",
       "    <tr>\n",
       "      <th>14</th>\n",
       "      <td>intercept</td>\n",
       "      <td>13.039434</td>\n",
       "      <td>0.002094</td>\n",
       "      <td>6226.249950</td>\n",
       "    </tr>\n",
       "  </tbody>\n",
       "</table>\n",
       "</div>"
      ],
      "text/plain": [
       "        Atributos      Pesos        sd      Z-score\n",
       "0        bedrooms  -0.008217  0.002725    -3.015137\n",
       "1       bathrooms   0.057625  0.003769    15.287223\n",
       "2     sqft_living   0.115111  0.004643    24.794540\n",
       "3        sqft_lot   0.021568  0.002910     7.412081\n",
       "4          floors   0.034430  0.002688    12.809832\n",
       "5      waterfront   0.033372  0.002266    14.726030\n",
       "6            view   0.043536  0.002370    18.367925\n",
       "7       condition   0.045447  0.002196    20.694036\n",
       "8           grade   0.185705  0.003799    48.886918\n",
       "9        yr_built  -0.112323  0.003027   -37.106397\n",
       "10   yr_renovated   0.014598  0.002145     6.805607\n",
       "11            lat   0.186964  0.002157    86.683118\n",
       "12  sqft_living15   0.083247  0.003527    23.603862\n",
       "13     sqft_lot15  -0.007767  0.002972    -2.613409\n",
       "14      intercept  13.039434  0.002094  6226.249950"
      ]
     },
     "execution_count": 8,
     "metadata": {},
     "output_type": "execute_result"
    }
   ],
   "source": [
    "cols = [1,2,3,4,5,6,7,8,9,12,13,14,16,17]\n",
    "X_f = df_scaled.iloc[:,cols]\n",
    "N = X_f.shape[0] #Cantidad de filas\n",
    "X_f.insert(X_f.shape[1], 'intercept', np.ones(N)) #X.shape[1] = dimensionalidad de datos (18, incluyendo intercepto)\n",
    "y = df_scaled['price']\n",
    "\n",
    "\n",
    "#mascara estatica con el 70% de los datos\n",
    "mascara = np.zeros(len(X_f))\n",
    "limit = int(len(X_f)*0.7)\n",
    "mascara[:limit] = 1\n",
    "istrain = mascara == 1\n",
    "X_ftrain = X_f[istrain]\n",
    "X_ftest = X_f[np.logical_not(istrain)]\n",
    "\n",
    "linreg_f = lm.LinearRegression(fit_intercept = False)\n",
    "linreg_f.fit(X_ftrain, ytrain)\n",
    "y_pred = linreg.predict(Xtrain)\n",
    "y_pred_f = linreg_f.predict(X_ftrain)\n",
    "\n",
    "\n",
    "model_f = sm.OLS(ytrain,X_ftrain).fit()\n",
    "predictions_f = model_f.predict(X_ftrain)\n",
    "#model.summary()\n",
    "zscore_f = model_f.params/model_f.bse\n",
    "#zscore = df_f[df_f.select_dtypes(include=[np.number]).columns].apply(zs)\n",
    "df_f = pd.DataFrame(zip(X_f.columns, linreg_f.coef_,model_f.bse,zscore_f,), columns = ['Atributos', 'Pesos', 'sd' ,'Z-score'])\n",
    "\n",
    "\n",
    "rss0 = sum((y_pred-ytrain)**2)\n",
    "rss1 = sum((y_pred_f - ytrain)**2)\n",
    "p1 = X.shape[1]-1\n",
    "p0 = X_f.shape[1]-1\n",
    "F = ((rss0-rss1)/(p0-p1))/(rss1/(N-p1-1))\n",
    "#print(rss0, rss1, p1,p0,N,F)\n",
    "\n",
    "df_f"
   ]
  },
  {
   "cell_type": "code",
   "execution_count": 9,
   "metadata": {},
   "outputs": [
    {
     "data": {
      "text/plain": [
       "0.76733273107290334"
      ]
     },
     "execution_count": 9,
     "metadata": {},
     "output_type": "execute_result"
    }
   ],
   "source": [
    "model_f.rsquared"
   ]
  },
  {
   "cell_type": "markdown",
   "metadata": {},
   "source": [
    "g) Mientras mas *folds* se usen mas se reducira el error por bias pero mas aumentará el error por varianza, en caso contrario se tiene que mientras menos *folds* se usen mas se reduciara el error por varianza pero mas aumentara el error por bias. Al realizar la validación cruzada se obtuvo valores similares para el error cuadrático medio "
   ]
  },
  {
   "cell_type": "code",
   "execution_count": 10,
   "metadata": {},
   "outputs": [
    {
     "name": "stdout",
     "output_type": "stream",
     "text": [
      "folds = 5: 0.0651544673221\n",
      "0.756574794758\n",
      "folds = 10: 0.0650523961061\n",
      "0.73979708885\n"
     ]
    }
   ],
   "source": [
    "from sklearn.model_selection import KFold\n",
    "for i in range(0,2):\n",
    "    if i == 0:\n",
    "        kf = KFold(n_splits=5)\n",
    "    else:\n",
    "        kf = KFold(n_splits=10)\n",
    "    mse_cv = 0\n",
    "    for train, val in kf.split(X_f):\n",
    "        #corr = df_scaled.corr()['price'][df_scaled.corr()['price'] < 1 ].abs()\n",
    "        #corr.sort_values(ascending = False)\n",
    "        #features = corr.index[[0,1]].values\n",
    "        \n",
    "        train_x = X_f.iloc[train,:]; train_y = y[train]\n",
    "        test_x = X_f.iloc[val,:]; test_y = y[val]\n",
    "        linreg = lm.LinearRegression(fit_intercept = False)\n",
    "        linreg.fit(train_x, train_y)\n",
    "        yhat_val = linreg.predict(test_x)\n",
    "        mse_fold = np.mean(np.power(yhat_val - test_y, 2))\n",
    "        mse_cv += mse_fold\n",
    "    if i == 0:\n",
    "        mse_cv = mse_cv / 5\n",
    "        print('{}{}'.format(\"folds = 5: \", mse_cv))\n",
    "    else:\n",
    "        mse_cv = mse_cv / 10\n",
    "        print('{}{}'.format(\"folds = 10: \", mse_cv))\n",
    "    print(linreg.score(test_x,test_y))"
   ]
  },
  {
   "cell_type": "markdown",
   "metadata": {},
   "source": [
    "h) La distribucion es aparentemente normal con outliers en los extremos"
   ]
  },
  {
   "cell_type": "code",
   "execution_count": 11,
   "metadata": {},
   "outputs": [
    {
     "data": {
      "image/png": "[encoded data removed]",
      "text/plain": [
       "<matplotlib.figure.Figure at 0x10486da0>"
      ]
     },
     "metadata": {},
     "output_type": "display_data"
    }
   ],
   "source": [
    "from sklearn.metrics import accuracy_score\n",
    "import pylab \n",
    "import scipy.stats as stats\n",
    "predictions = linreg_f.predict(X_ftest)\n",
    "residuos = ytest-predictions\n",
    "residuos\n",
    "stats.probplot(residuos, dist=\"norm\", plot= pylab)\n",
    "pylab.show()"
   ]
  },
  {
   "cell_type": "markdown",
   "metadata": {},
   "source": [
    "<h1>2. Selección de Atributos</h1>"
   ]
  },
  {
   "cell_type": "markdown",
   "metadata": {},
   "source": [
    "Esta sección se enfoca en que \"Selección de modelos\" (Model Selection). En la sección anterior se pudo apreciar el peso respectivo al modelo de cada uno de los parámetros incluidos en el dataset <i>Houses Sales in King County</i>, esto obteniendo el Z-score de cada uno, lo que nos da una interpretación de la importancia del atributo en el modelo.\n",
    "\n",
    "En particular el estimador utilizado en nuestro modelo de regresión, i.e. mínimos cuadrados, presenta un bajo bias y una alta varianza. La precisión de las predicciones pude ser mejorada eliminando ciertos parámetros del modelo, en particular se podrían establecer subconjuntos de atributos que presenten distintas precisiones entre ellos. De esta manera se trabaja con Model Selection.\n",
    "\n",
    "Una técnica para realizar Model Selection es <b>Forward Stepwise Subset Selection</b>; la lógica de este método consiste en navegar el espacio posible de subconjuntos de parámetros, en particular se parte entrenando un modelo incorporando solo el <i>intercepto</i> y luego en cada iteración se repite el paso agregando el parámetro, cuyo ingreso represente un mejor ajuste del modelo, esto utilizando alguna métrica:\n",
    "<ul>\n",
    "<li>Error residual de mínimos cuadrados</li>\n",
    "<li>Z-score</li>\n",
    "<li>F-statistics</li>\n",
    "</ul>\n",
    "\n",
    "Al escoger un subconjunto de parámetros se genera un modelo que es interpretable y probablemente tiene un menor error de predicción que el modelo original. El problema recae en que al ser un proceso discreto, la eliminación o agregación de parámetros en general exibe gran varianza."
   ]
  },
  {
   "cell_type": "code",
   "execution_count": 12,
   "metadata": {
    "collapsed": true
   },
   "outputs": [],
   "source": [
    "import matplotlib.pyplot as plt\n",
    "def fss(x, y, names_x, k = 10000):\n",
    "    p = x.shape[1]-1\n",
    "    k = min(p, k)\n",
    "    names_x = np.array(names_x)\n",
    "    remaining = range(0, p)\n",
    "    selected = [p]\n",
    "    xplot = []\n",
    "    yplot_train, yplot_test = [], []\n",
    "    current_score = best_new_score = 0.0\n",
    "    while remaining and len(selected)<=k :\n",
    "        score_candidates = []\n",
    "        for candidate in remaining:\n",
    "            model = lm.LinearRegression(fit_intercept=False)\n",
    "            indexes = selected + [candidate]\n",
    "            \n",
    "            X_train, X_test, y_train, y_test = train_test_split(x, y, test_size=0.3, random_state=0)\n",
    "            X_train, X_test = X_train[:,indexes], X_test[:,indexes]\n",
    "            \n",
    "            model.fit(X_train, y_train)\n",
    "            \n",
    "            predictions_train = model.predict(X_train)\n",
    "            predictions_test = model.predict(X_test)\n",
    "            \n",
    "            residuals_train = predictions_train - y_train\n",
    "            residuals_test = predictions_test - y_test\n",
    "            \n",
    "            mse_candidate = np.mean(np.power(residuals_train, 2))\n",
    "            mse_candidate_test = np.mean(np.power(residuals_test,2))\n",
    "            score_candidates.append((mse_candidate, mse_candidate_test, candidate))\n",
    "        \n",
    "        score_candidates.sort()\n",
    "        score_candidates[:] = score_candidates[::-1]\n",
    "        best_new_score, best_new_score_test, best_candidate = score_candidates.pop()\n",
    "        remaining.remove(best_candidate)\n",
    "        selected.append(best_candidate)\n",
    "        print \"selected = %s ...\"%names_x[best_candidate]\n",
    "        xplot.append(len(indexes))\n",
    "        yplot_train.append(best_new_score)\n",
    "        yplot_test.append(best_new_score_test)\n",
    "        print \"totalvars=%d, mse_train = %f, , mse_test = %f\"%(len(indexes),best_new_score, best_new_score_test)\n",
    "    \n",
    "    train_error = plt.plot(xplot,yplot_train, label='train_error')\n",
    "    test_error = plt.plot(xplot,yplot_test, label='test_error')\n",
    "    plt.legend()\n",
    "    plt.show()\n",
    "    \n",
    "    return selected"
   ]
  },
  {
   "cell_type": "code",
   "execution_count": 82,
   "metadata": {},
   "outputs": [
    {
     "name": "stdout",
     "output_type": "stream",
     "text": [
      "selected = grade ...\n",
      "totalvars=2, mse_train = 0.141604, , mse_test = 0.136444\n",
      "selected = lat ...\n",
      "totalvars=3, mse_train = 0.103420, , mse_test = 0.098054\n",
      "selected = sqft_living ...\n",
      "totalvars=4, mse_train = 0.083242, , mse_test = 0.079900\n",
      "selected = yr_built ...\n",
      "totalvars=5, mse_train = 0.075257, , mse_test = 0.072102\n",
      "selected = view ...\n",
      "totalvars=6, mse_train = 0.071646, , mse_test = 0.068192\n",
      "selected = bathrooms ...\n",
      "totalvars=7, mse_train = 0.070208, , mse_test = 0.066980\n",
      "selected = sqft_living15 ...\n",
      "totalvars=8, mse_train = 0.068638, , mse_test = 0.066059\n",
      "selected = condition ...\n",
      "totalvars=9, mse_train = 0.067483, , mse_test = 0.064917\n",
      "selected = waterfront ...\n",
      "totalvars=10, mse_train = 0.066363, , mse_test = 0.064252\n",
      "selected = floors ...\n",
      "totalvars=11, mse_train = 0.065533, , mse_test = 0.063530\n",
      "selected = sqft_lot ...\n",
      "totalvars=12, mse_train = 0.065269, , mse_test = 0.063618\n",
      "selected = yr_renovated ...\n",
      "totalvars=13, mse_train = 0.065108, , mse_test = 0.063326\n",
      "selected = long ...\n",
      "totalvars=14, mse_train = 0.065040, , mse_test = 0.063303\n",
      "selected = sqft_lot15 ...\n",
      "totalvars=15, mse_train = 0.064985, , mse_test = 0.063384\n",
      "selected = sqft_above ...\n",
      "totalvars=16, mse_train = 0.064960, , mse_test = 0.063387\n",
      "selected = bedrooms ...\n",
      "totalvars=17, mse_train = 0.064941, , mse_test = 0.063277\n",
      "selected = sqft_basement ...\n",
      "totalvars=18, mse_train = 0.064941, , mse_test = 0.063277\n"
     ]
    },
    {
     "data": {
      "image/png": "[encoded data removed]",
      "text/plain": [
       "<matplotlib.figure.Figure at 0x7f2c761e9150>"
      ]
     },
     "metadata": {},
     "output_type": "display_data"
    },
    {
     "data": {
      "text/plain": [
       "[17, 8, 13, 2, 11, 6, 1, 15, 7, 5, 4, 3, 12, 14, 16, 9, 0, 10]"
      ]
     },
     "execution_count": 82,
     "metadata": {},
     "output_type": "execute_result"
    }
   ],
   "source": [
    "df = pd.read_csv(\"kc_house_data.csv\")\n",
    "df.drop(['id','date','zipcode',],axis=1,inplace=True)\n",
    "\n",
    "from sklearn.preprocessing import StandardScaler\n",
    "scaler = StandardScaler()\n",
    "df_scaled = pd.DataFrame(scaler.fit_transform(df), columns=df.columns)\n",
    "df_scaled['price'] = np.log(df['price'])\n",
    "\n",
    "import sklearn.linear_model as lm\n",
    "X = df_scaled.iloc[:,1:]\n",
    "N = X.shape[0] #Cantidad de filas\n",
    "X.insert(X.shape[1], 'intercept', np.ones(N))\n",
    "y = df_scaled['price']\n",
    "\n",
    "#mascara = np.zeros(len(X))\n",
    "#limit = int(len(X)*0.7)\n",
    "#mascara[:limit] = 1\n",
    "#istrain = mascara == 1\n",
    "#Xtrain = X[istrain]\n",
    "#ytrain = y[istrain]\n",
    "#Xtest = X[np.logical_not(istrain)]\n",
    "#ytest = y[np.logical_not(istrain)]\n",
    "\n",
    "Xm = X.as_matrix()\n",
    "ym = y.as_matrix()\n",
    "\n",
    "names_regressors = X.columns[:-1]\n",
    "fss(Xm,ym,names_regressors)"
   ]
  },
  {
   "cell_type": "markdown",
   "metadata": {},
   "source": [
    "Hay que recordar que:\n",
    "\n",
    "\\begin{equation}\n",
    "E[\\text{test_error}] > E[\\text{train_error}]\n",
    "\\end{equation}\n",
    "\n",
    "\n",
    "Sin embargo, y como se puede apreciar en el gráfico el error de entrenamiento es ligeramente mayor al conjunto de testeo. Esto en particular nos hace concluir que nuestros datos están bien representados por el modelo lineal y por esta razón las predicciones del conjunto de testeo son bien acertadas. "
   ]
  },
  {
   "cell_type": "markdown",
   "metadata": {},
   "source": [
    "<h1>3. Regularización</h1>"
   ]
  },
  {
   "cell_type": "markdown",
   "metadata": {},
   "source": [
    "En esta sección se analizan dos técnicas de regularización, cuyo objetivo es reducir la dimensionalidad del problema sin reducir la capacidad de generalización del modelo. La lógica de estos métodos se basa en incluir un parámetro que controla qué tanto el peso de alguna variable es disminuido."
   ]
  },
  {
   "cell_type": "code",
   "execution_count": 92,
   "metadata": {
    "collapsed": true
   },
   "outputs": [],
   "source": [
    "import matplotlib.pylab as plt\n",
    "from sklearn.preprocessing import StandardScaler\n",
    "import sklearn.linear_model as lm\n",
    "\n",
    "df = pd.read_csv(\"kc_house_data.csv\")\n",
    "df.drop(['id','date','zipcode',],axis=1,inplace=True)\n",
    "\n",
    "scaler = StandardScaler()\n",
    "df_scaled = pd.DataFrame(scaler.fit_transform(df), columns=df.columns)\n",
    "df_scaled['price'] = np.log(df['price'])\n",
    "\n",
    "X = df_scaled.iloc[:,1:]\n",
    "N = X.shape[0] #Cantidad de filas\n",
    "X.insert(X.shape[1], 'intercept', np.ones(N))\n",
    "X2 = X.drop('intercept', axis=1,inplace=False)\n",
    "y = df_scaled['price']\n",
    "X_train, X_test, y_train, y_test = train_test_split(X.as_matrix(), y.as_matrix(), test_size=0.3, random_state=0)"
   ]
  },
  {
   "cell_type": "markdown",
   "metadata": {},
   "source": [
    "Una de estas herramientas corresponde a <b>Ridge Regression</b>, la cual utiliza la norma L2. En particular se agrega a la función objetivo, en este caso Mínimos Cuadrados, un factor de suma de los cuadrados de los estimadores:\n",
    "\n",
    "\\begin{equation}\n",
    "\\hat{\\beta^{ridge}}=argmin_{\\beta}\\left\\{\\sum_{i=1}^N(y_i-\\beta_0-\\sum_{j=1}^px_i\\beta_j)^2+\\lambda\\sum_{j=1}^p\\beta_j^2\\right\\}\n",
    "\\end{equation}"
   ]
  },
  {
   "cell_type": "code",
   "execution_count": 102,
   "metadata": {},
   "outputs": [
    {
     "data": {
      "image/png": "[encoded data removed]",
      "text/plain": [
       "<matplotlib.figure.Figure at 0x7f2c5aea4150>"
      ]
     },
     "metadata": {},
     "output_type": "display_data"
    }
   ],
   "source": [
    "from sklearn.linear_model import Ridge\n",
    "alphas_ = np.logspace(7,1,base=10)\n",
    "coefs = []\n",
    "model = Ridge(fit_intercept=True,solver='svd')\n",
    "for a in alphas_:\n",
    "    model.set_params(alpha=a)\n",
    "    model.fit(X_train, y_train)\n",
    "    coefs.append(model.coef_)\n",
    "ax = plt.gca()\n",
    "names_regressors = X2.columns\n",
    "aux = zip(np.squeeze(coefs).T, names_regressors)\n",
    "for y_arr, label in zip(np.squeeze(coefs).T, names_regressors):\n",
    "    plt.plot(alphas_, y_arr, label=label)\n",
    "\n",
    "plt.legend()\n",
    "ax.set_xscale('log')\n",
    "ax.set_xlim(ax.get_xlim()[::-1]) # reverse axis\n",
    "plt.title('Regularization Path RIDGE')\n",
    "plt.axis('tight')\n",
    "plt.legend(loc=2)\n",
    "plt.show()"
   ]
  },
  {
   "cell_type": "markdown",
   "metadata": {},
   "source": [
    "Como se puede notar en el gráfico la idea de éstos métodos es regulizar el modelo, valga la redundancia, en el sentido de estandarizar los valores de los estimadores $\\hat{\\beta}$, con el fin de evitar que ciertos estimadores que originalmente poseían pesos muy elevados influyan negativamente en el modelo.\n",
    "\n",
    "*Ya que Ridge Regression utiliza la norma L2,\n",
    "\n",
    "A continuación se presenta el método de regularización Lasso, que se diferencia simplemente en la norma de regularización a utilizar. De esta manera se busca minimizar la función de mínimos cuadrados, pero ahora incorporando de un término de penalización en base a la norma L1:\n",
    "\n",
    "\\begin{equation}\n",
    "\\hat{\\beta^{ridge}}=argmin_{\\beta}\\left\\{\\sum_{i=1}^N(y_i-\\beta_0-\\sum_{j=1}^px_i\\beta_j)^2+\\lambda\\sum_{j=1}^p|\\beta_j|\\right\\}\n",
    "\\end{equation}"
   ]
  },
  {
   "cell_type": "code",
   "execution_count": 86,
   "metadata": {},
   "outputs": [
    {
     "data": {
      "image/png": "[encoded data removed]",
      "text/plain": [
       "<matplotlib.figure.Figure at 0x7f2c5a4cfc50>"
      ]
     },
     "metadata": {},
     "output_type": "display_data"
    }
   ],
   "source": [
    "from sklearn.linear_model import Lasso\n",
    "model = Lasso(fit_intercept=True)\n",
    "alphas_ = np.logspace(0,-3,base=10)\n",
    "coefs = []\n",
    "for a in alphas_:\n",
    "    model.set_params(alpha=a)\n",
    "    model.fit(X_train, y_train)\n",
    "    coefs.append(model.coef_)\n",
    "\n",
    "ax = plt.gca()\n",
    "names_regressors = X2.columns\n",
    "aux = zip(np.squeeze(coefs).T, names_regressors)\n",
    "for y_arr, label in zip(np.squeeze(coefs).T, names_regressors):\n",
    "    plt.plot(alphas_, y_arr, label=label)\n",
    "plt.legend()\n",
    "ax.set_xscale('log')\n",
    "ax.set_xlim(ax.get_xlim()[::-1]) # reverse axis\n",
    "plt.title('Regularization Path Lasso')\n",
    "plt.axis('tight')\n",
    "plt.legend(loc=2)\n",
    "plt.show()"
   ]
  },
  {
   "cell_type": "code",
   "execution_count": null,
   "metadata": {
    "collapsed": true
   },
   "outputs": [],
   "source": []
  },
  {
   "cell_type": "code",
   "execution_count": 105,
   "metadata": {},
   "outputs": [
    {
     "data": {
      "image/png": "[encoded data removed]",
      "text/plain": [
       "<matplotlib.figure.Figure at 0x7f2c5a51bad0>"
      ]
     },
     "metadata": {},
     "output_type": "display_data"
    }
   ],
   "source": [
    "alphas_ = np.logspace(0,-3,base=10)\n",
    "model = Lasso(fit_intercept=True)\n",
    "coefs = []\n",
    "mse_test = []\n",
    "mse_train = []\n",
    "for a in alphas_:\n",
    "    model.set_params(alpha=a)\n",
    "    model.fit(X_train, y_train)\n",
    "    yhat_train = model.predict(X_train)\n",
    "    yhat_test = model.predict(X_test)\n",
    "    mse_train.append(np.mean(np.power(yhat_train - y_train, 2)))\n",
    "    mse_test.append(np.mean(np.power(yhat_test - y_test, 2)))\n",
    "ax = plt.gca()\n",
    "ax.plot(alphas_,mse_train,label='train error ridge')\n",
    "ax.plot(alphas_,mse_test,label='test error ridge')\n",
    "plt.legend(loc=1)\n",
    "ax.set_xscale('log')\n",
    "ax.set_xlim(ax.get_xlim()[::-1])\n",
    "plt.show()"
   ]
  },
  {
   "cell_type": "code",
   "execution_count": 107,
   "metadata": {},
   "outputs": [
    {
     "name": "stdout",
     "output_type": "stream",
     "text": [
      "BEST PARAMETER=1.000000, MSE(CV)=0.278169\n",
      "BEST PARAMETER=0.372759, MSE(CV)=0.278038\n",
      "BEST PARAMETER=0.323746, MSE(CV)=0.242943\n",
      "BEST PARAMETER=0.281177, MSE(CV)=0.213897\n",
      "BEST PARAMETER=0.244205, MSE(CV)=0.191988\n",
      "BEST PARAMETER=0.212095, MSE(CV)=0.171828\n",
      "BEST PARAMETER=0.184207, MSE(CV)=0.150077\n",
      "BEST PARAMETER=0.159986, MSE(CV)=0.133669\n",
      "BEST PARAMETER=0.138950, MSE(CV)=0.121292\n",
      "BEST PARAMETER=0.120679, MSE(CV)=0.111793\n",
      "BEST PARAMETER=0.104811, MSE(CV)=0.104420\n",
      "BEST PARAMETER=0.091030, MSE(CV)=0.097722\n",
      "BEST PARAMETER=0.079060, MSE(CV)=0.092490\n",
      "BEST PARAMETER=0.068665, MSE(CV)=0.088543\n",
      "BEST PARAMETER=0.059636, MSE(CV)=0.085557\n",
      "BEST PARAMETER=0.051795, MSE(CV)=0.081970\n",
      "BEST PARAMETER=0.044984, MSE(CV)=0.078608\n",
      "BEST PARAMETER=0.039069, MSE(CV)=0.075870\n",
      "BEST PARAMETER=0.033932, MSE(CV)=0.073558\n",
      "BEST PARAMETER=0.029471, MSE(CV)=0.071814\n",
      "BEST PARAMETER=0.025595, MSE(CV)=0.070481\n",
      "BEST PARAMETER=0.022230, MSE(CV)=0.069296\n",
      "BEST PARAMETER=0.019307, MSE(CV)=0.068362\n",
      "BEST PARAMETER=0.016768, MSE(CV)=0.067656\n",
      "BEST PARAMETER=0.014563, MSE(CV)=0.067103\n",
      "BEST PARAMETER=0.012649, MSE(CV)=0.066645\n",
      "BEST PARAMETER=0.010985, MSE(CV)=0.066300\n",
      "BEST PARAMETER=0.009541, MSE(CV)=0.066042\n",
      "BEST PARAMETER=0.008286, MSE(CV)=0.065844\n",
      "BEST PARAMETER=0.007197, MSE(CV)=0.065688\n",
      "BEST PARAMETER=0.006251, MSE(CV)=0.065566\n",
      "BEST PARAMETER=0.005429, MSE(CV)=0.065470\n",
      "BEST PARAMETER=0.004715, MSE(CV)=0.065398\n",
      "BEST PARAMETER=0.004095, MSE(CV)=0.065343\n",
      "BEST PARAMETER=0.003556, MSE(CV)=0.065301\n",
      "BEST PARAMETER=0.003089, MSE(CV)=0.065272\n",
      "BEST PARAMETER=0.002683, MSE(CV)=0.065246\n",
      "BEST PARAMETER=0.002330, MSE(CV)=0.065222\n",
      "BEST PARAMETER=0.002024, MSE(CV)=0.065202\n",
      "BEST PARAMETER=0.001758, MSE(CV)=0.065187\n",
      "BEST PARAMETER=0.001526, MSE(CV)=0.065174\n",
      "BEST PARAMETER=0.001326, MSE(CV)=0.065163\n",
      "BEST PARAMETER=0.001151, MSE(CV)=0.065154\n",
      "BEST PARAMETER=0.001000, MSE(CV)=0.065148\n"
     ]
    }
   ],
   "source": [
    "def MSE(y,yhat): return np.mean(np.power(y-yhat,2))\n",
    "Xm = X_train\n",
    "ym = y_train\n",
    "\n",
    "from sklearn.model_selection import KFold\n",
    "kf = KFold(n_splits=10)\n",
    "best_cv_mse = float(\"inf\")\n",
    "alphas_ = np.logspace(0,-3,base=10)\n",
    "model = Lasso(fit_intercept=True)\n",
    "for a in alphas_:\n",
    "    model.set_params(alpha=a)\n",
    "    mse_list_k10 = [MSE(model.fit(Xm[train], ym[train]).predict(Xm[val]), ym[val]) for train, val in kf.split(Xm)]\n",
    "    if np.mean(mse_list_k10) < best_cv_mse:\n",
    "        best_cv_mse = np.mean(mse_list_k10)\n",
    "        best_alpha = a\n",
    "        print \"BEST PARAMETER=%f, MSE(CV)=%f\"%(best_alpha,best_cv_mse)"
   ]
  },
  {
   "cell_type": "markdown",
   "metadata": {},
   "source": [
    "<h1>4. Drift</h1>"
   ]
  },
  {
   "cell_type": "code",
   "execution_count": 13,
   "metadata": {},
   "outputs": [
    {
     "data": {
      "image/png": "[encoded data removed]",
      "text/plain": [
       "<matplotlib.figure.Figure at 0x10af6be0>"
      ]
     },
     "metadata": {},
     "output_type": "display_data"
    },
    {
     "data": {
      "image/png": "[encoded data removed]",
      "text/plain": [
       "<matplotlib.figure.Figure at 0x1106d860>"
      ]
     },
     "metadata": {},
     "output_type": "display_data"
    }
   ],
   "source": [
    "import matplotlib.pyplot as plt\n",
    "df_A = df_scaled.sample(1000,random_state=11)\n",
    "frames = []\n",
    "valor = df_scaled.price\n",
    "length = 0.3\n",
    "for z in np.arange(int(np.min(valor)),int(np.max(valor))+1,length):\n",
    "    #un maximo de 100 datos por intervalo\n",
    "    aux = df_scaled[(df_scaled.price >= z) & (df_scaled.price < z+length)].head(100)\n",
    "    frames.append(aux)\n",
    "df_B = pd.concat(frames).sample(1000,random_state=11) #crea el dataframe\n",
    "\n",
    "df_A.insert(df_A.shape[1], 'intercept', np.ones(df_A.shape[0]))\n",
    "df_B.insert(df_B.shape[1], 'intercept', np.ones(df_B.shape[0]))\n",
    "\n",
    "df_A['price'].hist(bins=12)\n",
    "plt.show()\n",
    "df_B['price'].hist(bins=12)\n",
    "plt.show()"
   ]
  },
  {
   "cell_type": "code",
   "execution_count": 14,
   "metadata": {
    "collapsed": true
   },
   "outputs": [],
   "source": [
    "X_A = df_A.iloc[:,1:].values\n",
    "y_A = df_A.price\n",
    "X_B = df_B.iloc[:,1:].values\n",
    "y_B = df_B.price\n",
    "from sklearn.model_selection import train_test_split\n",
    "Xtrain_A,Xval_A,ytrain_A,yval_A = train_test_split(X_A, y_A, test_size=0.3, random_state=42)\n",
    "Xtrain_B,Xval_B,ytrain_B,yval_B = train_test_split(X_B, y_B, test_size=0.3, random_state=42)"
   ]
  },
  {
   "cell_type": "markdown",
   "metadata": {},
   "source": [
    "b) Para esta se obtiene la regresion lineal para los conjuntos de datos **A** y **B**, luego se predicen los precios del conjunto de datos **B** utilizando la regresion lineal obtenida de **A** y viceversa. Se obtiene que el modelo **A** tiene un menor **mse** que el modelo **B**, y lo mismo ocurre con su coeficiente de correlación, esto muestra que el modelo **A** presenta un mayor poder de predicción en el tiempo o que explica mejor a la relación de los atributos con el objetivo, luego respecto a la prediccion de los valores de **A** y **B** utilizando los dos modelos se tiene que estos valores predichos son buenos cuando se utiliza el modelo **B** sobre los datos de **A** mientros que lo contrario tiene un error de casi el doble."
   ]
  },
  {
   "cell_type": "code",
   "execution_count": 15,
   "metadata": {},
   "outputs": [
    {
     "name": "stdout",
     "output_type": "stream",
     "text": [
      "R^2 A: 0.78381383864\n",
      "R^2 B: 0.881177358806\n",
      "mse_AA: 0.0715482960585\n",
      "mse_BA: 0.150813436322\n",
      "mse_BB: 0.118955142032\n",
      "mse_AB: 0.082894182182\n",
      "\n"
     ]
    }
   ],
   "source": [
    "from sklearn.metrics import mean_squared_error\n",
    "linreg_AA = lm.LinearRegression(fit_intercept = False)\n",
    "linreg_BB = lm.LinearRegression(fit_intercept = False)\n",
    "linreg_AA.fit(Xtrain_A, ytrain_A)\n",
    "linreg_BB.fit(Xtrain_B, ytrain_B)\n",
    "pred_AA = linreg_AA.predict(Xval_A)\n",
    "pred_BA = linreg_AA.predict(Xval_B)\n",
    "pred_BB = linreg_BB.predict(Xval_B)\n",
    "pred_AB = linreg_BB.predict(Xval_A)\n",
    "mse_AA = mean_squared_error(pred_AA, yval_A)\n",
    "mse_BA = mean_squared_error(pred_BA, yval_B)\n",
    "mse_BB = mean_squared_error(pred_BB, yval_B)\n",
    "mse_AB = mean_squared_error(pred_AB, yval_A)\n",
    "print('R^2 A: {}'.format(linreg_AA.score(Xval_A,yval_A)))\n",
    "print('R^2 B: {}'.format(linreg_BB.score(Xval_B,yval_B)))\n",
    "print('mse_AA: {}\\nmse_BA: {}\\nmse_BB: {}\\nmse_AB: {}\\n'.format(mse_AA, mse_BA, mse_BB, mse_AB))"
   ]
  },
  {
   "cell_type": "markdown",
   "metadata": {},
   "source": [
    "c) El modelo **B** tiene un mayor poder de predicción cuando se introducen datos nuevos, sin embargo esto puede ser causado por la distribución que tienen los datos. El modelo **A** falla al predecir los valores de **B** dado que presenta un bias de distribucion, es incapáz de predecir valores que estan por fuera de la distribución normal y por ende su error cuadrático medio es alto, lo que no quiere decir que el modelo **A** es peor, pero si lo será si los datos cambian (drift), en cambio el modelo **B** si podrá predecir mejor cuando esto ocurra. Por lo explicado anteriormente si tuviera que trabajar con data futura utilizaria el modelo **B**."
   ]
  },
  {
   "cell_type": "markdown",
   "metadata": {},
   "source": [
    "<h1>5. Detectar enfermedades cardiacas</h1>"
   ]
  },
  {
   "cell_type": "markdown",
   "metadata": {},
   "source": [
    "La idea de este problema es predecir la presencia de una enfermedad cardíaca (presente o ausente), en base a diferentes medidas clínicas. En particular se dice que el parámetro ritmo cardíaco máximo es un buen indicador, por lo que en primera instancia se realiza un análisis visual de los datos para luego proceder con el entrenamiento del modelo de regresión."
   ]
  },
  {
   "cell_type": "code",
   "execution_count": 59,
   "metadata": {},
   "outputs": [
    {
     "data": {
      "text/html": [
       "<div>\n",
       "<style>\n",
       "    .dataframe thead tr:only-child th {\n",
       "        text-align: right;\n",
       "    }\n",
       "\n",
       "    .dataframe thead th {\n",
       "        text-align: left;\n",
       "    }\n",
       "\n",
       "    .dataframe tbody tr th {\n",
       "        vertical-align: top;\n",
       "    }\n",
       "</style>\n",
       "<table border=\"1\" class=\"dataframe\">\n",
       "  <thead>\n",
       "    <tr style=\"text-align: right;\">\n",
       "      <th></th>\n",
       "      <th>age</th>\n",
       "      <th>sex</th>\n",
       "      <th>chest_pain</th>\n",
       "      <th>blood_p</th>\n",
       "      <th>serum</th>\n",
       "      <th>blood_s</th>\n",
       "      <th>electro</th>\n",
       "      <th>max_heart</th>\n",
       "      <th>angina</th>\n",
       "      <th>oldpeak</th>\n",
       "      <th>slope</th>\n",
       "      <th>vessel</th>\n",
       "      <th>thal</th>\n",
       "      <th>normal</th>\n",
       "    </tr>\n",
       "  </thead>\n",
       "  <tbody>\n",
       "    <tr>\n",
       "      <th>count</th>\n",
       "      <td>270.000000</td>\n",
       "      <td>270.000000</td>\n",
       "      <td>270.000000</td>\n",
       "      <td>270.000000</td>\n",
       "      <td>270.000000</td>\n",
       "      <td>270.000000</td>\n",
       "      <td>270.000000</td>\n",
       "      <td>270.000000</td>\n",
       "      <td>270.000000</td>\n",
       "      <td>270.00000</td>\n",
       "      <td>270.000000</td>\n",
       "      <td>270.000000</td>\n",
       "      <td>270.000000</td>\n",
       "      <td>270.000000</td>\n",
       "    </tr>\n",
       "    <tr>\n",
       "      <th>mean</th>\n",
       "      <td>54.433333</td>\n",
       "      <td>0.677778</td>\n",
       "      <td>3.174074</td>\n",
       "      <td>131.344444</td>\n",
       "      <td>249.659259</td>\n",
       "      <td>0.148148</td>\n",
       "      <td>1.022222</td>\n",
       "      <td>149.677778</td>\n",
       "      <td>0.329630</td>\n",
       "      <td>1.05000</td>\n",
       "      <td>1.585185</td>\n",
       "      <td>0.670370</td>\n",
       "      <td>4.696296</td>\n",
       "      <td>1.444444</td>\n",
       "    </tr>\n",
       "    <tr>\n",
       "      <th>std</th>\n",
       "      <td>9.109067</td>\n",
       "      <td>0.468195</td>\n",
       "      <td>0.950090</td>\n",
       "      <td>17.861608</td>\n",
       "      <td>51.686237</td>\n",
       "      <td>0.355906</td>\n",
       "      <td>0.997891</td>\n",
       "      <td>23.165717</td>\n",
       "      <td>0.470952</td>\n",
       "      <td>1.14521</td>\n",
       "      <td>0.614390</td>\n",
       "      <td>0.943896</td>\n",
       "      <td>1.940659</td>\n",
       "      <td>0.497827</td>\n",
       "    </tr>\n",
       "    <tr>\n",
       "      <th>min</th>\n",
       "      <td>29.000000</td>\n",
       "      <td>0.000000</td>\n",
       "      <td>1.000000</td>\n",
       "      <td>94.000000</td>\n",
       "      <td>126.000000</td>\n",
       "      <td>0.000000</td>\n",
       "      <td>0.000000</td>\n",
       "      <td>71.000000</td>\n",
       "      <td>0.000000</td>\n",
       "      <td>0.00000</td>\n",
       "      <td>1.000000</td>\n",
       "      <td>0.000000</td>\n",
       "      <td>3.000000</td>\n",
       "      <td>1.000000</td>\n",
       "    </tr>\n",
       "    <tr>\n",
       "      <th>25%</th>\n",
       "      <td>48.000000</td>\n",
       "      <td>0.000000</td>\n",
       "      <td>3.000000</td>\n",
       "      <td>120.000000</td>\n",
       "      <td>213.000000</td>\n",
       "      <td>0.000000</td>\n",
       "      <td>0.000000</td>\n",
       "      <td>133.000000</td>\n",
       "      <td>0.000000</td>\n",
       "      <td>0.00000</td>\n",
       "      <td>1.000000</td>\n",
       "      <td>0.000000</td>\n",
       "      <td>3.000000</td>\n",
       "      <td>1.000000</td>\n",
       "    </tr>\n",
       "    <tr>\n",
       "      <th>50%</th>\n",
       "      <td>55.000000</td>\n",
       "      <td>1.000000</td>\n",
       "      <td>3.000000</td>\n",
       "      <td>130.000000</td>\n",
       "      <td>245.000000</td>\n",
       "      <td>0.000000</td>\n",
       "      <td>2.000000</td>\n",
       "      <td>153.500000</td>\n",
       "      <td>0.000000</td>\n",
       "      <td>0.80000</td>\n",
       "      <td>2.000000</td>\n",
       "      <td>0.000000</td>\n",
       "      <td>3.000000</td>\n",
       "      <td>1.000000</td>\n",
       "    </tr>\n",
       "    <tr>\n",
       "      <th>75%</th>\n",
       "      <td>61.000000</td>\n",
       "      <td>1.000000</td>\n",
       "      <td>4.000000</td>\n",
       "      <td>140.000000</td>\n",
       "      <td>280.000000</td>\n",
       "      <td>0.000000</td>\n",
       "      <td>2.000000</td>\n",
       "      <td>166.000000</td>\n",
       "      <td>1.000000</td>\n",
       "      <td>1.60000</td>\n",
       "      <td>2.000000</td>\n",
       "      <td>1.000000</td>\n",
       "      <td>7.000000</td>\n",
       "      <td>2.000000</td>\n",
       "    </tr>\n",
       "    <tr>\n",
       "      <th>max</th>\n",
       "      <td>77.000000</td>\n",
       "      <td>1.000000</td>\n",
       "      <td>4.000000</td>\n",
       "      <td>200.000000</td>\n",
       "      <td>564.000000</td>\n",
       "      <td>1.000000</td>\n",
       "      <td>2.000000</td>\n",
       "      <td>202.000000</td>\n",
       "      <td>1.000000</td>\n",
       "      <td>6.20000</td>\n",
       "      <td>3.000000</td>\n",
       "      <td>3.000000</td>\n",
       "      <td>7.000000</td>\n",
       "      <td>2.000000</td>\n",
       "    </tr>\n",
       "  </tbody>\n",
       "</table>\n",
       "</div>"
      ],
      "text/plain": [
       "              age         sex  chest_pain     blood_p       serum     blood_s  \\\n",
       "count  270.000000  270.000000  270.000000  270.000000  270.000000  270.000000   \n",
       "mean    54.433333    0.677778    3.174074  131.344444  249.659259    0.148148   \n",
       "std      9.109067    0.468195    0.950090   17.861608   51.686237    0.355906   \n",
       "min     29.000000    0.000000    1.000000   94.000000  126.000000    0.000000   \n",
       "25%     48.000000    0.000000    3.000000  120.000000  213.000000    0.000000   \n",
       "50%     55.000000    1.000000    3.000000  130.000000  245.000000    0.000000   \n",
       "75%     61.000000    1.000000    4.000000  140.000000  280.000000    0.000000   \n",
       "max     77.000000    1.000000    4.000000  200.000000  564.000000    1.000000   \n",
       "\n",
       "          electro   max_heart      angina    oldpeak       slope      vessel  \\\n",
       "count  270.000000  270.000000  270.000000  270.00000  270.000000  270.000000   \n",
       "mean     1.022222  149.677778    0.329630    1.05000    1.585185    0.670370   \n",
       "std      0.997891   23.165717    0.470952    1.14521    0.614390    0.943896   \n",
       "min      0.000000   71.000000    0.000000    0.00000    1.000000    0.000000   \n",
       "25%      0.000000  133.000000    0.000000    0.00000    1.000000    0.000000   \n",
       "50%      2.000000  153.500000    0.000000    0.80000    2.000000    0.000000   \n",
       "75%      2.000000  166.000000    1.000000    1.60000    2.000000    1.000000   \n",
       "max      2.000000  202.000000    1.000000    6.20000    3.000000    3.000000   \n",
       "\n",
       "             thal      normal  \n",
       "count  270.000000  270.000000  \n",
       "mean     4.696296    1.444444  \n",
       "std      1.940659    0.497827  \n",
       "min      3.000000    1.000000  \n",
       "25%      3.000000    1.000000  \n",
       "50%      3.000000    1.000000  \n",
       "75%      7.000000    2.000000  \n",
       "max      7.000000    2.000000  "
      ]
     },
     "execution_count": 59,
     "metadata": {},
     "output_type": "execute_result"
    }
   ],
   "source": [
    "import plotly.plotly as py\n",
    "import matplotlib.pyplot as plt\n",
    "\n",
    "headers = ['age','sex','chest_pain','blood_p','serum','blood_s','electro','max_heart', 'angina','oldpeak','slope',\\\n",
    "           'vessel','thal','normal']\n",
    "df = pd.read_csv(\"heart.dat\", header=None, names=headers, sep=' ')\n",
    "df.describe()"
   ]
  },
  {
   "cell_type": "code",
   "execution_count": null,
   "metadata": {
    "collapsed": true
   },
   "outputs": [],
   "source": [
    "def mScatterPlot(x,y,labels,fig=1,size=1,subplt=1):\n",
    "    plt.figure(1,figsize=(14,20))\n",
    "    plt.subplot(size,size,subplt)\n",
    "    plt.scatter(x,y)\n",
    "    plt.xlabel(labels[0])\n",
    "    plt.ylabel(labels[1])"
   ]
  },
  {
   "cell_type": "code",
   "execution_count": 56,
   "metadata": {},
   "outputs": [
    {
     "data": {
      "image/png": "[encoded data removed]",
      "text/plain": [
       "<matplotlib.figure.Figure at 0x7f2c5b95dc50>"
      ]
     },
     "metadata": {},
     "output_type": "display_data"
    }
   ],
   "source": [
    "target,figure,size = 'max_heart', 1, 7\n",
    "for i in range(len(headers)):\n",
    "    mScatterPlot(df[headers[i]],df[target], [headers[i],target],figure,size,i+1)\n",
    "\n",
    "plt.tight_layout()\n",
    "plt.show()"
   ]
  },
  {
   "cell_type": "code",
   "execution_count": 58,
   "metadata": {},
   "outputs": [
    {
     "data": {
      "image/png": "[encoded data removed]",
      "text/plain": [
       "<matplotlib.figure.Figure at 0x7f2c5b823c90>"
      ]
     },
     "metadata": {},
     "output_type": "display_data"
    }
   ],
   "source": [
    "target,figure,size = 'normal', 1, 7\n",
    "headers = [x for x in headers if x not in ['sex','chest_pain','blood_s','electro','angina','slope','vessel','thal', 'normal']]\n",
    "for i in range(len(headers)):\n",
    "    mScatterPlot(df[headers[i]],df[target], [headers[i],target],figure,size,i+1)\n",
    "\n",
    "plt.tight_layout()\n",
    "plt.show()"
   ]
  },
  {
   "cell_type": "markdown",
   "metadata": {},
   "source": [
    "En esta sección se debe realizar un preprocesamiento del dataset para que el modelo de Regresión Lineal se ajuste correctamente a los datos; en particular se deben crear nuevas columnas para todas las variables categóricas. Al realizar esto se asegura de que el modelo no considere estos valores como ordenados, es decir, si una variable posee 3 categorías codificads como {1,2,3}, hay que \"explicarle\" al modelo que tener un valor 1 no significa que sea menor que tener un valor 3, son solo valores categóricos distintos independientes entre ellos.\n",
    "\n",
    "Por ejemplo, para la variable 'chest_pain' se crean 3 nuevas columnas en donde se codifica la presencia (con 0 y 1) de cada uno de los posibles valores en su dominio, por lo tanto queda claro que la variable 'chest_pain' posee 3 valores distintos.\n",
    "\n",
    "Además de esto, y al igual que en la sección 1, se debe realizar una estandarización de los datos para asegurarnos de que nuestros valores reales se muevan en un espacio similar."
   ]
  },
  {
   "cell_type": "code",
   "execution_count": 79,
   "metadata": {
    "collapsed": true
   },
   "outputs": [],
   "source": [
    "from sklearn.preprocessing import StandardScaler\n",
    "scaler = StandardScaler()\n",
    "\n",
    "headers = ['age','sex','chest_pain','blood_p','serum','blood_s','electro','max_heart', 'angina','oldpeak','slope',\\\n",
    "           'vessel','thal','normal']\n",
    "\n",
    "df = pd.read_csv(\"heart.dat\", header=None, names=headers, sep=' ')\n",
    "#df.head()\n",
    "\n",
    "#Data standardization\n",
    "df_scaled = pd.concat([df['age'],df['blood_p'],df['serum'],df['max_heart'],df['oldpeak'],df['slope'],df['vessel']],axis=1)\n",
    "df_scaled = pd.DataFrame(scaler.fit_transform(df_scaled), columns=df_scaled.columns)\n",
    "\n",
    "#Dataframes with binary coded categorical variables\n",
    "df_sex_dummies = pd.get_dummies(df['sex'], prefix='sex')\n",
    "df_chest_pain_dummies = pd.get_dummies(df['chest_pain'], prefix='chest_pain')\n",
    "df_electro_dummies = pd.get_dummies(df['electro'], prefix='electro')\n",
    "df_thal_dummies = pd.get_dummies(df['thal'], prefix='thal')\n",
    "df_categorical = pd.concat([df_sex_dummies,df_chest_pain_dummies, df_electro_dummies, df['blood_s'], df['angina'],df_thal_dummies], axis=1)\n",
    "\n",
    "#Dataframe for coding categorical output\n",
    "df_predict_dummies = pd.get_dummies(df['normal'], prefix='normal')\n",
    "df_predict_dummies.drop(['normal_1'],axis=1,inplace=True)\n",
    "df_predict_dummies.columns.values[0] = 'normal'\n",
    "\n",
    "#Merging both dataframes with al preprocessed data\n",
    "df = pd.concat([df_scaled,df_categorical, df_predict_dummies], axis=1)\n",
    "#df.describe()"
   ]
  },
  {
   "cell_type": "markdown",
   "metadata": {},
   "source": [
    "Realizando un analisis superficial de los datos se da cuenta que el parámetro <i>Máximo ritmo cardíaco</i> no guarda (a simple viste) directa relación con el atributo predictor: presencia o ausencia de enfermedad cardíaca. Por esta razón no se pudo idear una métrica para evaluar la predicción categórica en función de la predicción cuantitavia del parámetro mencionado.\n",
    "\n",
    "Para proceder se decidió realizar la predicción en base al atributo <i>Normal</i> que indica la presencia o ausencia de una enfermedad cardíaca. Se codifico la presencia con valor 1 y la ausencia con valor 0, de esta manera nuestro modelo de regresión lineal predecirá valores en el rango [0,1], luego aplicando un umbral de decision simple, i.e. si $\\hat{y}>0.5$ entonces $\\hat{y}\\leftarrow1$ sino $\\hat{y}\\leftarrow0$."
   ]
  },
  {
   "cell_type": "code",
   "execution_count": 80,
   "metadata": {},
   "outputs": [
    {
     "name": "stdout",
     "output_type": "stream",
     "text": [
      "Score Train: 0.888888888889\n",
      "Score Test: 0.84126984127\n"
     ]
    }
   ],
   "source": [
    "import sklearn.linear_model as lm\n",
    "from sklearn.model_selection import train_test_split\n",
    "\n",
    "y = df['normal']\n",
    "df.drop(['normal'],axis=1,inplace=True)\n",
    "\n",
    "X = df.iloc[:,:]\n",
    "N = X.shape[0] #Cantidad de filas\n",
    "X.insert(X.shape[1], 'intercept', np.ones(N))\n",
    "\n",
    "#mascara = np.zeros(len(X))\n",
    "#limit = int(len(X)*0.7)\n",
    "#mascara[:limit] = 1\n",
    "#istrain = mascara == 1\n",
    "#Xtrain = X[istrain]\n",
    "#ytrain = y[istrain]\n",
    "#Xtest = X[np.logical_not(istrain)]\n",
    "#ytest = y[np.logical_not(istrain)]\n",
    "\n",
    "X_train, X_test, y_train, y_test = train_test_split(X.as_matrix(), y.as_matrix(), test_size=0.7, random_state=359)\n",
    "\n",
    "linreg = lm.LinearRegression(fit_intercept = False)\n",
    "linreg.fit(X_train, y_train)\n",
    "\n",
    "y_hat_train  = linreg.predict(X_train)\n",
    "y_hat_train_cat = []\n",
    "for y in y_hat_train:\n",
    "    if y>0.5:\n",
    "        y_hat_train_cat.append(1)\n",
    "    else:\n",
    "        y_hat_train_cat.append(0)\n",
    "\n",
    "\n",
    "y_hat_test = linreg.predict(X_test)\n",
    "y_hat_test_cat = []\n",
    "for y in y_hat_test:\n",
    "    if y > 0.5:\n",
    "        y_hat_test_cat.append(1)\n",
    "    else:\n",
    "        y_hat_test_cat.append(0)\n",
    "        \n",
    "#mse_matriz = np.power(y_outlier - y_predict_outlier, 2)\n",
    "#mse_matriz = pd.DataFrame(mse_matriz)\n",
    "#mse_matriz.describe()\n",
    "\n",
    "y_train = y_train.tolist()\n",
    "y_test = y_test.tolist()\n",
    "\n",
    "from sklearn.metrics import accuracy_score\n",
    "print(\"Score Train: \"+str(accuracy_score(y_train,y_hat_train_cat)))\n",
    "print(\"Score Test: \"+str(accuracy_score(y_test,y_hat_test_cat)))"
   ]
  },
  {
   "cell_type": "markdown",
   "metadata": {},
   "source": [
    "La métrica anterior se basa en el <b>índice de Jaccard</b>, el cual mide la intersección sobre la unión de dos conjuntos. En este caso se evalúa la cantidad de predicciones iguales. Es importante dejar en claro el por qué se escoge esta métrica; debido a que los valores predichos son codificados como valores categóricos (booleanos más específicamente), ya no se puede ocupar una métrica de distancia como lo hace <b>Mínimos cuadrados</b>, sino que es necesario utilizar una métrica que nos de cuenta del porcentaje de predicciones acertadas.\n",
    "\n",
    "Como se logra apreciar la capacidad de predicción en el conjunto de entrenamiento es mayor que en el de testeo, sin embargo en ambos casos obtenemos una precisión mayor al <b>80%</b>, por lo que se puede concluir que nuestro modelo posee una gran capacidad de generalización."
   ]
  },
  {
   "cell_type": "code",
   "execution_count": null,
   "metadata": {
    "collapsed": true
   },
   "outputs": [],
   "source": []
  }
 ],
 "metadata": {
  "kernelspec": {
   "display_name": "Python 2",
   "language": "python",
   "name": "python2"
  },
  "language_info": {
   "codemirror_mode": {
    "name": "ipython",
    "version": 2
   },
   "file_extension": ".py",
   "mimetype": "text/x-python",
   "name": "python",
   "nbconvert_exporter": "python",
   "pygments_lexer": "ipython2",
   "version": "2.7.13"
  }
 },
 "nbformat": 4,
 "nbformat_minor": 2
}
