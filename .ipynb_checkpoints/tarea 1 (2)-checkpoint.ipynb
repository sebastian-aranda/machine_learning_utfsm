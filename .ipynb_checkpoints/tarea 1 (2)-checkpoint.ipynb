{
 "cells": [
  {
   "cell_type": "markdown",
   "metadata": {
    "deletable": true,
    "editable": true
   },
   "source": [
    "<h1>1. Regresión Lineal Ordinaria (LSS)</h1>"
   ]
  },
  {
   "cell_type": "code",
   "execution_count": 3,
   "metadata": {
    "collapsed": true,
    "deletable": true,
    "editable": true
   },
   "outputs": [],
   "source": [
    "import numpy as np\n",
    "import pandas as pd"
   ]
  },
  {
   "cell_type": "markdown",
   "metadata": {
    "deletable": true,
    "editable": true
   },
   "source": [
    "a) Se elimina id, date y zipcode ya que no aportan informacion relevante en cuanto al precio de las casas"
   ]
  },
  {
   "cell_type": "code",
   "execution_count": 4,
   "metadata": {
    "collapsed": false,
    "deletable": true,
    "editable": true
   },
   "outputs": [],
   "source": [
    "df = pd.read_csv(\"kc_house_data.csv\")\n",
    "df.drop(['id','date','zipcode',],axis=1,inplace=True)"
   ]
  },
  {
   "cell_type": "markdown",
   "metadata": {
    "deletable": true,
    "editable": true
   },
   "source": [
    "b) El dataset consta de 18 columnas o atributos, las cuales presentan valores no nulos y enteros o reales, un total de 21.613 instancias de casas.\n",
    "Todas las casas se encuentran localizadas en King County, esto se refleja en la media de la latitud y longitud (47.560053, -122.213896) y su baja desviasión estándar, la mayoria presenta entre 3 a 4 dormitorios y 1 a 2 baños, los demás datos presentan mayor dispersión por lo que no son muy útiles para generalizar."
   ]
  },
  {
   "cell_type": "code",
   "execution_count": 5,
   "metadata": {
    "collapsed": false,
    "deletable": true,
    "editable": true
   },
   "outputs": [
    {
     "name": "stdout",
     "output_type": "stream",
     "text": [
      "<class 'pandas.core.frame.DataFrame'>\n",
      "RangeIndex: 21613 entries, 0 to 21612\n",
      "Data columns (total 18 columns):\n",
      "price            21613 non-null float64\n",
      "bedrooms         21613 non-null int64\n",
      "bathrooms        21613 non-null float64\n",
      "sqft_living      21613 non-null int64\n",
      "sqft_lot         21613 non-null int64\n",
      "floors           21613 non-null float64\n",
      "waterfront       21613 non-null int64\n",
      "view             21613 non-null int64\n",
      "condition        21613 non-null int64\n",
      "grade            21613 non-null int64\n",
      "sqft_above       21613 non-null int64\n",
      "sqft_basement    21613 non-null int64\n",
      "yr_built         21613 non-null int64\n",
      "yr_renovated     21613 non-null int64\n",
      "lat              21613 non-null float64\n",
      "long             21613 non-null float64\n",
      "sqft_living15    21613 non-null int64\n",
      "sqft_lot15       21613 non-null int64\n",
      "dtypes: float64(5), int64(13)\n",
      "memory usage: 3.0 MB\n"
     ]
    },
    {
     "data": {
      "text/html": [
       "<div>\n",
       "<table border=\"1\" class=\"dataframe\">\n",
       "  <thead>\n",
       "    <tr style=\"text-align: right;\">\n",
       "      <th></th>\n",
       "      <th>price</th>\n",
       "      <th>bedrooms</th>\n",
       "      <th>bathrooms</th>\n",
       "      <th>sqft_living</th>\n",
       "      <th>sqft_lot</th>\n",
       "      <th>floors</th>\n",
       "      <th>waterfront</th>\n",
       "      <th>view</th>\n",
       "      <th>condition</th>\n",
       "      <th>grade</th>\n",
       "      <th>sqft_above</th>\n",
       "      <th>sqft_basement</th>\n",
       "      <th>yr_built</th>\n",
       "      <th>yr_renovated</th>\n",
       "      <th>lat</th>\n",
       "      <th>long</th>\n",
       "      <th>sqft_living15</th>\n",
       "      <th>sqft_lot15</th>\n",
       "    </tr>\n",
       "  </thead>\n",
       "  <tbody>\n",
       "    <tr>\n",
       "      <th>count</th>\n",
       "      <td>2.161300e+04</td>\n",
       "      <td>21613.000000</td>\n",
       "      <td>21613.000000</td>\n",
       "      <td>21613.000000</td>\n",
       "      <td>2.161300e+04</td>\n",
       "      <td>21613.000000</td>\n",
       "      <td>21613.000000</td>\n",
       "      <td>21613.000000</td>\n",
       "      <td>21613.000000</td>\n",
       "      <td>21613.000000</td>\n",
       "      <td>21613.000000</td>\n",
       "      <td>21613.000000</td>\n",
       "      <td>21613.000000</td>\n",
       "      <td>21613.000000</td>\n",
       "      <td>21613.000000</td>\n",
       "      <td>21613.000000</td>\n",
       "      <td>21613.000000</td>\n",
       "      <td>21613.000000</td>\n",
       "    </tr>\n",
       "    <tr>\n",
       "      <th>mean</th>\n",
       "      <td>5.400881e+05</td>\n",
       "      <td>3.370842</td>\n",
       "      <td>2.114757</td>\n",
       "      <td>2079.899736</td>\n",
       "      <td>1.510697e+04</td>\n",
       "      <td>1.494309</td>\n",
       "      <td>0.007542</td>\n",
       "      <td>0.234303</td>\n",
       "      <td>3.409430</td>\n",
       "      <td>7.656873</td>\n",
       "      <td>1788.390691</td>\n",
       "      <td>291.509045</td>\n",
       "      <td>1971.005136</td>\n",
       "      <td>84.402258</td>\n",
       "      <td>47.560053</td>\n",
       "      <td>-122.213896</td>\n",
       "      <td>1986.552492</td>\n",
       "      <td>12768.455652</td>\n",
       "    </tr>\n",
       "    <tr>\n",
       "      <th>std</th>\n",
       "      <td>3.671272e+05</td>\n",
       "      <td>0.930062</td>\n",
       "      <td>0.770163</td>\n",
       "      <td>918.440897</td>\n",
       "      <td>4.142051e+04</td>\n",
       "      <td>0.539989</td>\n",
       "      <td>0.086517</td>\n",
       "      <td>0.766318</td>\n",
       "      <td>0.650743</td>\n",
       "      <td>1.175459</td>\n",
       "      <td>828.090978</td>\n",
       "      <td>442.575043</td>\n",
       "      <td>29.373411</td>\n",
       "      <td>401.679240</td>\n",
       "      <td>0.138564</td>\n",
       "      <td>0.140828</td>\n",
       "      <td>685.391304</td>\n",
       "      <td>27304.179631</td>\n",
       "    </tr>\n",
       "    <tr>\n",
       "      <th>min</th>\n",
       "      <td>7.500000e+04</td>\n",
       "      <td>0.000000</td>\n",
       "      <td>0.000000</td>\n",
       "      <td>290.000000</td>\n",
       "      <td>5.200000e+02</td>\n",
       "      <td>1.000000</td>\n",
       "      <td>0.000000</td>\n",
       "      <td>0.000000</td>\n",
       "      <td>1.000000</td>\n",
       "      <td>1.000000</td>\n",
       "      <td>290.000000</td>\n",
       "      <td>0.000000</td>\n",
       "      <td>1900.000000</td>\n",
       "      <td>0.000000</td>\n",
       "      <td>47.155900</td>\n",
       "      <td>-122.519000</td>\n",
       "      <td>399.000000</td>\n",
       "      <td>651.000000</td>\n",
       "    </tr>\n",
       "    <tr>\n",
       "      <th>25%</th>\n",
       "      <td>3.219500e+05</td>\n",
       "      <td>3.000000</td>\n",
       "      <td>1.750000</td>\n",
       "      <td>1427.000000</td>\n",
       "      <td>5.040000e+03</td>\n",
       "      <td>1.000000</td>\n",
       "      <td>0.000000</td>\n",
       "      <td>0.000000</td>\n",
       "      <td>3.000000</td>\n",
       "      <td>7.000000</td>\n",
       "      <td>1190.000000</td>\n",
       "      <td>0.000000</td>\n",
       "      <td>1951.000000</td>\n",
       "      <td>0.000000</td>\n",
       "      <td>47.471000</td>\n",
       "      <td>-122.328000</td>\n",
       "      <td>1490.000000</td>\n",
       "      <td>5100.000000</td>\n",
       "    </tr>\n",
       "    <tr>\n",
       "      <th>50%</th>\n",
       "      <td>4.500000e+05</td>\n",
       "      <td>3.000000</td>\n",
       "      <td>2.250000</td>\n",
       "      <td>1910.000000</td>\n",
       "      <td>7.618000e+03</td>\n",
       "      <td>1.500000</td>\n",
       "      <td>0.000000</td>\n",
       "      <td>0.000000</td>\n",
       "      <td>3.000000</td>\n",
       "      <td>7.000000</td>\n",
       "      <td>1560.000000</td>\n",
       "      <td>0.000000</td>\n",
       "      <td>1975.000000</td>\n",
       "      <td>0.000000</td>\n",
       "      <td>47.571800</td>\n",
       "      <td>-122.230000</td>\n",
       "      <td>1840.000000</td>\n",
       "      <td>7620.000000</td>\n",
       "    </tr>\n",
       "    <tr>\n",
       "      <th>75%</th>\n",
       "      <td>6.450000e+05</td>\n",
       "      <td>4.000000</td>\n",
       "      <td>2.500000</td>\n",
       "      <td>2550.000000</td>\n",
       "      <td>1.068800e+04</td>\n",
       "      <td>2.000000</td>\n",
       "      <td>0.000000</td>\n",
       "      <td>0.000000</td>\n",
       "      <td>4.000000</td>\n",
       "      <td>8.000000</td>\n",
       "      <td>2210.000000</td>\n",
       "      <td>560.000000</td>\n",
       "      <td>1997.000000</td>\n",
       "      <td>0.000000</td>\n",
       "      <td>47.678000</td>\n",
       "      <td>-122.125000</td>\n",
       "      <td>2360.000000</td>\n",
       "      <td>10083.000000</td>\n",
       "    </tr>\n",
       "    <tr>\n",
       "      <th>max</th>\n",
       "      <td>7.700000e+06</td>\n",
       "      <td>33.000000</td>\n",
       "      <td>8.000000</td>\n",
       "      <td>13540.000000</td>\n",
       "      <td>1.651359e+06</td>\n",
       "      <td>3.500000</td>\n",
       "      <td>1.000000</td>\n",
       "      <td>4.000000</td>\n",
       "      <td>5.000000</td>\n",
       "      <td>13.000000</td>\n",
       "      <td>9410.000000</td>\n",
       "      <td>4820.000000</td>\n",
       "      <td>2015.000000</td>\n",
       "      <td>2015.000000</td>\n",
       "      <td>47.777600</td>\n",
       "      <td>-121.315000</td>\n",
       "      <td>6210.000000</td>\n",
       "      <td>871200.000000</td>\n",
       "    </tr>\n",
       "  </tbody>\n",
       "</table>\n",
       "</div>"
      ],
      "text/plain": [
       "              price      bedrooms     bathrooms   sqft_living      sqft_lot  \\\n",
       "count  2.161300e+04  21613.000000  21613.000000  21613.000000  2.161300e+04   \n",
       "mean   5.400881e+05      3.370842      2.114757   2079.899736  1.510697e+04   \n",
       "std    3.671272e+05      0.930062      0.770163    918.440897  4.142051e+04   \n",
       "min    7.500000e+04      0.000000      0.000000    290.000000  5.200000e+02   \n",
       "25%    3.219500e+05      3.000000      1.750000   1427.000000  5.040000e+03   \n",
       "50%    4.500000e+05      3.000000      2.250000   1910.000000  7.618000e+03   \n",
       "75%    6.450000e+05      4.000000      2.500000   2550.000000  1.068800e+04   \n",
       "max    7.700000e+06     33.000000      8.000000  13540.000000  1.651359e+06   \n",
       "\n",
       "             floors    waterfront          view     condition         grade  \\\n",
       "count  21613.000000  21613.000000  21613.000000  21613.000000  21613.000000   \n",
       "mean       1.494309      0.007542      0.234303      3.409430      7.656873   \n",
       "std        0.539989      0.086517      0.766318      0.650743      1.175459   \n",
       "min        1.000000      0.000000      0.000000      1.000000      1.000000   \n",
       "25%        1.000000      0.000000      0.000000      3.000000      7.000000   \n",
       "50%        1.500000      0.000000      0.000000      3.000000      7.000000   \n",
       "75%        2.000000      0.000000      0.000000      4.000000      8.000000   \n",
       "max        3.500000      1.000000      4.000000      5.000000     13.000000   \n",
       "\n",
       "         sqft_above  sqft_basement      yr_built  yr_renovated           lat  \\\n",
       "count  21613.000000   21613.000000  21613.000000  21613.000000  21613.000000   \n",
       "mean    1788.390691     291.509045   1971.005136     84.402258     47.560053   \n",
       "std      828.090978     442.575043     29.373411    401.679240      0.138564   \n",
       "min      290.000000       0.000000   1900.000000      0.000000     47.155900   \n",
       "25%     1190.000000       0.000000   1951.000000      0.000000     47.471000   \n",
       "50%     1560.000000       0.000000   1975.000000      0.000000     47.571800   \n",
       "75%     2210.000000     560.000000   1997.000000      0.000000     47.678000   \n",
       "max     9410.000000    4820.000000   2015.000000   2015.000000     47.777600   \n",
       "\n",
       "               long  sqft_living15     sqft_lot15  \n",
       "count  21613.000000   21613.000000   21613.000000  \n",
       "mean    -122.213896    1986.552492   12768.455652  \n",
       "std        0.140828     685.391304   27304.179631  \n",
       "min     -122.519000     399.000000     651.000000  \n",
       "25%     -122.328000    1490.000000    5100.000000  \n",
       "50%     -122.230000    1840.000000    7620.000000  \n",
       "75%     -122.125000    2360.000000   10083.000000  \n",
       "max     -121.315000    6210.000000  871200.000000  "
      ]
     },
     "execution_count": 5,
     "metadata": {},
     "output_type": "execute_result"
    }
   ],
   "source": [
    "df.head()\n",
    "df.shape\n",
    "df.info()\n",
    "df.describe()"
   ]
  },
  {
   "cell_type": "markdown",
   "metadata": {
    "deletable": true,
    "editable": true
   },
   "source": [
    "c) Esta parte corresponde al preprocesamiento de los datos, y es utilizado cuando los datos tienen valores muy dispersos (en este caso casi todos exceptuando: 'bedrooms', 'bathrooms', 'lat', 'long'). La motivación detrás de esto radica en que algunos algoritmos, la función objetivo no funciona muy bien sin antes realizar normalización, es decir los datos deben comportarse parecido a una distribución normal estándar.\n",
    "Luego se aplica función logaritmo al valor del precio ya que lo que nos interesa son los cambios relativos de este valor según los atributos en juego."
   ]
  },
  {
   "cell_type": "code",
   "execution_count": 6,
   "metadata": {
    "collapsed": false,
    "deletable": true,
    "editable": true
   },
   "outputs": [
    {
     "data": {
      "text/html": [
       "<div>\n",
       "<table border=\"1\" class=\"dataframe\">\n",
       "  <thead>\n",
       "    <tr style=\"text-align: right;\">\n",
       "      <th></th>\n",
       "      <th>price</th>\n",
       "      <th>bedrooms</th>\n",
       "      <th>bathrooms</th>\n",
       "      <th>sqft_living</th>\n",
       "      <th>sqft_lot</th>\n",
       "      <th>floors</th>\n",
       "      <th>waterfront</th>\n",
       "      <th>view</th>\n",
       "      <th>condition</th>\n",
       "      <th>grade</th>\n",
       "      <th>sqft_above</th>\n",
       "      <th>sqft_basement</th>\n",
       "      <th>yr_built</th>\n",
       "      <th>yr_renovated</th>\n",
       "      <th>lat</th>\n",
       "      <th>long</th>\n",
       "      <th>sqft_living15</th>\n",
       "      <th>sqft_lot15</th>\n",
       "    </tr>\n",
       "  </thead>\n",
       "  <tbody>\n",
       "    <tr>\n",
       "      <th>count</th>\n",
       "      <td>21613.000000</td>\n",
       "      <td>2.161300e+04</td>\n",
       "      <td>2.161300e+04</td>\n",
       "      <td>2.161300e+04</td>\n",
       "      <td>2.161300e+04</td>\n",
       "      <td>2.161300e+04</td>\n",
       "      <td>2.161300e+04</td>\n",
       "      <td>2.161300e+04</td>\n",
       "      <td>2.161300e+04</td>\n",
       "      <td>2.161300e+04</td>\n",
       "      <td>2.161300e+04</td>\n",
       "      <td>2.161300e+04</td>\n",
       "      <td>2.161300e+04</td>\n",
       "      <td>2.161300e+04</td>\n",
       "      <td>2.161300e+04</td>\n",
       "      <td>2.161300e+04</td>\n",
       "      <td>2.161300e+04</td>\n",
       "      <td>2.161300e+04</td>\n",
       "    </tr>\n",
       "    <tr>\n",
       "      <th>mean</th>\n",
       "      <td>13.047817</td>\n",
       "      <td>2.367051e-16</td>\n",
       "      <td>-1.788439e-16</td>\n",
       "      <td>2.419652e-16</td>\n",
       "      <td>1.052023e-17</td>\n",
       "      <td>-3.156068e-17</td>\n",
       "      <td>-5.260114e-18</td>\n",
       "      <td>-1.052023e-17</td>\n",
       "      <td>-2.577456e-16</td>\n",
       "      <td>2.524855e-16</td>\n",
       "      <td>1.104624e-16</td>\n",
       "      <td>6.838148e-17</td>\n",
       "      <td>1.914681e-15</td>\n",
       "      <td>1.315028e-18</td>\n",
       "      <td>-3.446262e-14</td>\n",
       "      <td>-3.636843e-14</td>\n",
       "      <td>8.153176e-17</td>\n",
       "      <td>-2.893063e-17</td>\n",
       "    </tr>\n",
       "    <tr>\n",
       "      <th>std</th>\n",
       "      <td>0.526685</td>\n",
       "      <td>1.000023e+00</td>\n",
       "      <td>1.000023e+00</td>\n",
       "      <td>1.000023e+00</td>\n",
       "      <td>1.000023e+00</td>\n",
       "      <td>1.000023e+00</td>\n",
       "      <td>1.000023e+00</td>\n",
       "      <td>1.000023e+00</td>\n",
       "      <td>1.000023e+00</td>\n",
       "      <td>1.000023e+00</td>\n",
       "      <td>1.000023e+00</td>\n",
       "      <td>1.000023e+00</td>\n",
       "      <td>1.000023e+00</td>\n",
       "      <td>1.000023e+00</td>\n",
       "      <td>1.000023e+00</td>\n",
       "      <td>1.000023e+00</td>\n",
       "      <td>1.000023e+00</td>\n",
       "      <td>1.000023e+00</td>\n",
       "    </tr>\n",
       "    <tr>\n",
       "      <th>min</th>\n",
       "      <td>11.225243</td>\n",
       "      <td>-3.624404e+00</td>\n",
       "      <td>-2.745920e+00</td>\n",
       "      <td>-1.948891e+00</td>\n",
       "      <td>-3.521759e-01</td>\n",
       "      <td>-9.154270e-01</td>\n",
       "      <td>-8.717263e-02</td>\n",
       "      <td>-3.057595e-01</td>\n",
       "      <td>-3.702668e+00</td>\n",
       "      <td>-5.663344e+00</td>\n",
       "      <td>-1.809494e+00</td>\n",
       "      <td>-6.586810e-01</td>\n",
       "      <td>-2.417383e+00</td>\n",
       "      <td>-2.101284e-01</td>\n",
       "      <td>-2.916795e+00</td>\n",
       "      <td>-2.166543e+00</td>\n",
       "      <td>-2.316325e+00</td>\n",
       "      <td>-4.438052e-01</td>\n",
       "    </tr>\n",
       "    <tr>\n",
       "      <th>25%</th>\n",
       "      <td>12.682152</td>\n",
       "      <td>-3.987371e-01</td>\n",
       "      <td>-4.736214e-01</td>\n",
       "      <td>-7.108948e-01</td>\n",
       "      <td>-2.430487e-01</td>\n",
       "      <td>-9.154270e-01</td>\n",
       "      <td>-8.717263e-02</td>\n",
       "      <td>-3.057595e-01</td>\n",
       "      <td>-6.291869e-01</td>\n",
       "      <td>-5.588357e-01</td>\n",
       "      <td>-7.226314e-01</td>\n",
       "      <td>-6.586810e-01</td>\n",
       "      <td>-6.810785e-01</td>\n",
       "      <td>-2.101284e-01</td>\n",
       "      <td>-6.426977e-01</td>\n",
       "      <td>-8.102505e-01</td>\n",
       "      <td>-7.244971e-01</td>\n",
       "      <td>-2.808593e-01</td>\n",
       "    </tr>\n",
       "    <tr>\n",
       "      <th>50%</th>\n",
       "      <td>13.017003</td>\n",
       "      <td>-3.987371e-01</td>\n",
       "      <td>1.756067e-01</td>\n",
       "      <td>-1.849914e-01</td>\n",
       "      <td>-1.808075e-01</td>\n",
       "      <td>1.053939e-02</td>\n",
       "      <td>-8.717263e-02</td>\n",
       "      <td>-3.057595e-01</td>\n",
       "      <td>-6.291869e-01</td>\n",
       "      <td>-5.588357e-01</td>\n",
       "      <td>-2.758102e-01</td>\n",
       "      <td>-6.586810e-01</td>\n",
       "      <td>1.360059e-01</td>\n",
       "      <td>-2.101284e-01</td>\n",
       "      <td>8.478232e-02</td>\n",
       "      <td>-1.143518e-01</td>\n",
       "      <td>-2.138280e-01</td>\n",
       "      <td>-1.885636e-01</td>\n",
       "    </tr>\n",
       "    <tr>\n",
       "      <th>75%</th>\n",
       "      <td>13.377006</td>\n",
       "      <td>6.764851e-01</td>\n",
       "      <td>5.002207e-01</td>\n",
       "      <td>5.118578e-01</td>\n",
       "      <td>-1.066880e-01</td>\n",
       "      <td>9.365058e-01</td>\n",
       "      <td>-8.717263e-02</td>\n",
       "      <td>-3.057595e-01</td>\n",
       "      <td>9.075535e-01</td>\n",
       "      <td>2.919156e-01</td>\n",
       "      <td>5.091458e-01</td>\n",
       "      <td>6.066704e-01</td>\n",
       "      <td>8.849999e-01</td>\n",
       "      <td>-2.101284e-01</td>\n",
       "      <td>8.512345e-01</td>\n",
       "      <td>6.312541e-01</td>\n",
       "      <td>5.448802e-01</td>\n",
       "      <td>-9.835556e-02</td>\n",
       "    </tr>\n",
       "    <tr>\n",
       "      <th>max</th>\n",
       "      <td>15.856731</td>\n",
       "      <td>3.185793e+01</td>\n",
       "      <td>7.641730e+00</td>\n",
       "      <td>1.247807e+01</td>\n",
       "      <td>3.950434e+01</td>\n",
       "      <td>3.714405e+00</td>\n",
       "      <td>1.147149e+01</td>\n",
       "      <td>4.914129e+00</td>\n",
       "      <td>2.444294e+00</td>\n",
       "      <td>4.545672e+00</td>\n",
       "      <td>9.204044e+00</td>\n",
       "      <td>1.023238e+01</td>\n",
       "      <td>1.497813e+00</td>\n",
       "      <td>4.806428e+00</td>\n",
       "      <td>1.570054e+00</td>\n",
       "      <td>6.383070e+00</td>\n",
       "      <td>6.162239e+00</td>\n",
       "      <td>3.144029e+01</td>\n",
       "    </tr>\n",
       "  </tbody>\n",
       "</table>\n",
       "</div>"
      ],
      "text/plain": [
       "              price      bedrooms     bathrooms   sqft_living      sqft_lot  \\\n",
       "count  21613.000000  2.161300e+04  2.161300e+04  2.161300e+04  2.161300e+04   \n",
       "mean      13.047817  2.367051e-16 -1.788439e-16  2.419652e-16  1.052023e-17   \n",
       "std        0.526685  1.000023e+00  1.000023e+00  1.000023e+00  1.000023e+00   \n",
       "min       11.225243 -3.624404e+00 -2.745920e+00 -1.948891e+00 -3.521759e-01   \n",
       "25%       12.682152 -3.987371e-01 -4.736214e-01 -7.108948e-01 -2.430487e-01   \n",
       "50%       13.017003 -3.987371e-01  1.756067e-01 -1.849914e-01 -1.808075e-01   \n",
       "75%       13.377006  6.764851e-01  5.002207e-01  5.118578e-01 -1.066880e-01   \n",
       "max       15.856731  3.185793e+01  7.641730e+00  1.247807e+01  3.950434e+01   \n",
       "\n",
       "             floors    waterfront          view     condition         grade  \\\n",
       "count  2.161300e+04  2.161300e+04  2.161300e+04  2.161300e+04  2.161300e+04   \n",
       "mean  -3.156068e-17 -5.260114e-18 -1.052023e-17 -2.577456e-16  2.524855e-16   \n",
       "std    1.000023e+00  1.000023e+00  1.000023e+00  1.000023e+00  1.000023e+00   \n",
       "min   -9.154270e-01 -8.717263e-02 -3.057595e-01 -3.702668e+00 -5.663344e+00   \n",
       "25%   -9.154270e-01 -8.717263e-02 -3.057595e-01 -6.291869e-01 -5.588357e-01   \n",
       "50%    1.053939e-02 -8.717263e-02 -3.057595e-01 -6.291869e-01 -5.588357e-01   \n",
       "75%    9.365058e-01 -8.717263e-02 -3.057595e-01  9.075535e-01  2.919156e-01   \n",
       "max    3.714405e+00  1.147149e+01  4.914129e+00  2.444294e+00  4.545672e+00   \n",
       "\n",
       "         sqft_above  sqft_basement      yr_built  yr_renovated           lat  \\\n",
       "count  2.161300e+04   2.161300e+04  2.161300e+04  2.161300e+04  2.161300e+04   \n",
       "mean   1.104624e-16   6.838148e-17  1.914681e-15  1.315028e-18 -3.446262e-14   \n",
       "std    1.000023e+00   1.000023e+00  1.000023e+00  1.000023e+00  1.000023e+00   \n",
       "min   -1.809494e+00  -6.586810e-01 -2.417383e+00 -2.101284e-01 -2.916795e+00   \n",
       "25%   -7.226314e-01  -6.586810e-01 -6.810785e-01 -2.101284e-01 -6.426977e-01   \n",
       "50%   -2.758102e-01  -6.586810e-01  1.360059e-01 -2.101284e-01  8.478232e-02   \n",
       "75%    5.091458e-01   6.066704e-01  8.849999e-01 -2.101284e-01  8.512345e-01   \n",
       "max    9.204044e+00   1.023238e+01  1.497813e+00  4.806428e+00  1.570054e+00   \n",
       "\n",
       "               long  sqft_living15    sqft_lot15  \n",
       "count  2.161300e+04   2.161300e+04  2.161300e+04  \n",
       "mean  -3.636843e-14   8.153176e-17 -2.893063e-17  \n",
       "std    1.000023e+00   1.000023e+00  1.000023e+00  \n",
       "min   -2.166543e+00  -2.316325e+00 -4.438052e-01  \n",
       "25%   -8.102505e-01  -7.244971e-01 -2.808593e-01  \n",
       "50%   -1.143518e-01  -2.138280e-01 -1.885636e-01  \n",
       "75%    6.312541e-01   5.448802e-01 -9.835556e-02  \n",
       "max    6.383070e+00   6.162239e+00  3.144029e+01  "
      ]
     },
     "execution_count": 6,
     "metadata": {},
     "output_type": "execute_result"
    }
   ],
   "source": [
    "from sklearn.preprocessing import StandardScaler\n",
    "import matplotlib.pyplot as plt\n",
    "scaler = StandardScaler()\n",
    "df_scaled = pd.DataFrame(scaler.fit_transform(df), columns=df.columns)\n",
    "df_scaled['price'] = np.log(df['price'])\n",
    "df_scaled.describe()"
   ]
  },
  {
   "cell_type": "code",
   "execution_count": 5,
   "metadata": {
    "collapsed": false,
    "deletable": true,
    "editable": true
   },
   "outputs": [
    {
     "name": "stdout",
     "output_type": "stream",
     "text": [
      "Index([u'price', u'bedrooms', u'bathrooms', u'sqft_living', u'sqft_lot',\n",
      "       u'floors', u'waterfront', u'view', u'condition', u'grade',\n",
      "       u'sqft_above', u'sqft_basement', u'yr_built', u'yr_renovated', u'lat',\n",
      "       u'long', u'sqft_living15', u'sqft_lot15'],\n",
      "      dtype='object')\n",
      "0     12.309982\n",
      "1     13.195614\n",
      "2     12.100712\n",
      "3     13.311329\n",
      "4     13.142166\n",
      "5     14.018451\n",
      "6     12.458775\n",
      "7     12.583995\n",
      "8     12.343658\n",
      "9     12.685408\n",
      "10    13.403776\n",
      "11    13.056224\n",
      "12    12.644328\n",
      "13    12.899220\n",
      "14    13.180632\n",
      "15    13.384728\n",
      "16    12.886641\n",
      "17    13.091904\n",
      "18    12.149502\n",
      "19    12.345835\n",
      "20    12.860999\n",
      "21    14.508658\n",
      "22    12.560244\n",
      "23    12.439958\n",
      "24    12.703813\n",
      "25    12.358794\n",
      "26    13.750439\n",
      "27    13.410545\n",
      "28    12.989974\n",
      "29    13.485617\n",
      "Name: price, dtype: float64\n"
     ]
    }
   ],
   "source": [
    "print(df.columns)\n",
    "print(df_scaled['price'][:30])"
   ]
  },
  {
   "cell_type": "markdown",
   "metadata": {
    "deletable": true,
    "editable": true
   },
   "source": [
    "d) Los datos ya se han centrado (paso anterior) por lo que el parametro 'fit_intercept' no se utilizará.\n",
    "Luego nos interesan todas las columnas exceptuando 'price' ya que solo se quiere incluir los parámetros como los valores de $X$. La linea 4 añade la columna nº18 (luego de eliminar la columna *'price'*) de intercepto, este paso es el mismo realizado en clases en donde el intercepto de la ecuación lineal que representa el comportamiento del precio de acuerdo a los atributos es añadido al dataset o matriz de parámetros $X$ con el fin de encapsular el parámetro desconocido (*$b_0$*) en un solo vector (columna).\n",
    "\n",
    "Como se mencionó anteriormente, *'fit_intercept'* no se utilizará ya que el intercepto es eliminado de la ecuación lineal e integrado a la matriz de parámetros por lo tanto en los argumentos de la función que implementa la regresión lineal no será necesario. Luego *'normalize'* es ignorado ya que esto se realizo en el paso anterior y *'n_jobs'* es utilizado para dividir el trabajo en multiples CPUs.\n"
   ]
  },
  {
   "cell_type": "code",
   "execution_count": 6,
   "metadata": {
    "collapsed": false,
    "deletable": true,
    "editable": true
   },
   "outputs": [
    {
     "data": {
      "text/plain": [
       "LinearRegression(copy_X=True, fit_intercept=False, n_jobs=1, normalize=False)"
      ]
     },
     "execution_count": 6,
     "metadata": {},
     "output_type": "execute_result"
    }
   ],
   "source": [
    "import sklearn.linear_model as lm\n",
    "X = df_scaled.iloc[:,1:] #use .ix instead, in older pandas version //Se consideran todas las filas y columnas menos 'price'\n",
    "N = X.shape[0] #Cantidad de filas\n",
    "X.insert(X.shape[1], 'intercept', np.ones(N)) #X.shape[1] = dimensionalidad de datos (18, incluyendo intercepto)\n",
    "y = df_scaled['price']\n",
    "\n",
    "#mascara estatica con el 70% de los datos\n",
    "mascara = np.zeros(len(X))\n",
    "limit = int(len(X)*0.7)\n",
    "mascara[:limit] = 1\n",
    "istrain = mascara == 1\n",
    "Xtrain = X[istrain]\n",
    "ytrain = y[istrain]\n",
    "Xtest = X[np.logical_not(istrain)]\n",
    "ytest = y[np.logical_not(istrain)]\n",
    "\n",
    "linreg = lm.LinearRegression(fit_intercept = False)\n",
    "linreg.fit(Xtrain, ytrain)\n",
    "#predictions_train = linreg.predict(x_train)\n",
    "#residuals_train = predictions_train - ytrain"
   ]
  },
  {
   "cell_type": "code",
   "execution_count": 7,
   "metadata": {
    "collapsed": false,
    "deletable": true,
    "editable": true,
    "scrolled": true
   },
   "outputs": [
    {
     "data": {
      "text/plain": [
       "0.76283599664893009"
      ]
     },
     "execution_count": 7,
     "metadata": {},
     "output_type": "execute_result"
    }
   ],
   "source": [
    "linreg.score(Xtest, ytest) #Coeficiente de determinacion R^2"
   ]
  },
  {
   "cell_type": "markdown",
   "metadata": {
    "deletable": true,
    "editable": true
   },
   "source": [
    "e) Las variables con mayor peso o coeficiente mas alto en valor absoluto son *'sqft_living'*, *'sqft_above'* y *'sqft_basement'* por lo que es tentador decir que son las variables que mas influyen en el modelo, sin embargo las variables que están mas correlacionadas con la respuesta son todas exceptuando *'sqft_basement'*, *'sqft_above'*, *'sqft_living'* ya que las variables mencionadas son las que presentan *z-scores* menores a 1.960 en valor absoluto, lo que significa que con un nivel de significancia del 5% estos atributos no son de importancia, con un nivel de significancia del 1% el atributo *'sqft_lot15'* tambien es de poca relevancia (|z-score| > 2.576).\n",
    "Esto se debe a la alta desviación estandar presente en los atributos mencionados, lo que conlleva a bajar su *z-score*, además es muy probable que su alto peso sea producto de un error de aleatoriedad de la muestra."
   ]
  },
  {
   "cell_type": "code",
   "execution_count": 8,
   "metadata": {
    "collapsed": false,
    "deletable": true,
    "editable": true
   },
   "outputs": [
    {
     "data": {
      "text/html": [
       "<div>\n",
       "<table border=\"1\" class=\"dataframe\">\n",
       "  <thead>\n",
       "    <tr style=\"text-align: right;\">\n",
       "      <th></th>\n",
       "      <th>Atributos</th>\n",
       "      <th>Pesos</th>\n",
       "      <th>sd</th>\n",
       "      <th>Z-score</th>\n",
       "    </tr>\n",
       "  </thead>\n",
       "  <tbody>\n",
       "    <tr>\n",
       "      <th>0</th>\n",
       "      <td>bedrooms</td>\n",
       "      <td>-1.137666e-02</td>\n",
       "      <td>3.256484e-03</td>\n",
       "      <td>-3.580185</td>\n",
       "    </tr>\n",
       "    <tr>\n",
       "      <th>1</th>\n",
       "      <td>bathrooms</td>\n",
       "      <td>5.664423e-02</td>\n",
       "      <td>3.852958e-03</td>\n",
       "      <td>14.706149</td>\n",
       "    </tr>\n",
       "    <tr>\n",
       "      <th>2</th>\n",
       "      <td>sqft_living</td>\n",
       "      <td>-1.091202e+12</td>\n",
       "      <td>5.807004e+11</td>\n",
       "      <td>-1.922419</td>\n",
       "    </tr>\n",
       "    <tr>\n",
       "      <th>3</th>\n",
       "      <td>sqft_lot</td>\n",
       "      <td>2.186016e-02</td>\n",
       "      <td>2.930036e-03</td>\n",
       "      <td>7.549545</td>\n",
       "    </tr>\n",
       "    <tr>\n",
       "      <th>4</th>\n",
       "      <td>floors</td>\n",
       "      <td>3.741344e-02</td>\n",
       "      <td>3.090969e-03</td>\n",
       "      <td>11.986294</td>\n",
       "    </tr>\n",
       "    <tr>\n",
       "      <th>5</th>\n",
       "      <td>waterfront</td>\n",
       "      <td>3.370060e-02</td>\n",
       "      <td>2.278501e-03</td>\n",
       "      <td>14.761486</td>\n",
       "    </tr>\n",
       "    <tr>\n",
       "      <th>6</th>\n",
       "      <td>view</td>\n",
       "      <td>4.176399e-02</td>\n",
       "      <td>2.430885e-03</td>\n",
       "      <td>17.322679</td>\n",
       "    </tr>\n",
       "    <tr>\n",
       "      <th>7</th>\n",
       "      <td>condition</td>\n",
       "      <td>4.571693e-02</td>\n",
       "      <td>2.218095e-03</td>\n",
       "      <td>20.306172</td>\n",
       "    </tr>\n",
       "    <tr>\n",
       "      <th>8</th>\n",
       "      <td>grade</td>\n",
       "      <td>1.863173e-01</td>\n",
       "      <td>3.893343e-03</td>\n",
       "      <td>47.886550</td>\n",
       "    </tr>\n",
       "    <tr>\n",
       "      <th>9</th>\n",
       "      <td>sqft_above</td>\n",
       "      <td>9.838574e+11</td>\n",
       "      <td>5.235751e+11</td>\n",
       "      <td>1.922419</td>\n",
       "    </tr>\n",
       "    <tr>\n",
       "      <th>10</th>\n",
       "      <td>sqft_basement</td>\n",
       "      <td>5.258247e+11</td>\n",
       "      <td>2.798259e+11</td>\n",
       "      <td>1.922419</td>\n",
       "    </tr>\n",
       "    <tr>\n",
       "      <th>11</th>\n",
       "      <td>yr_built</td>\n",
       "      <td>-1.101074e-01</td>\n",
       "      <td>3.280177e-03</td>\n",
       "      <td>-33.672353</td>\n",
       "    </tr>\n",
       "    <tr>\n",
       "      <th>12</th>\n",
       "      <td>yr_renovated</td>\n",
       "      <td>1.458740e-02</td>\n",
       "      <td>2.174547e-03</td>\n",
       "      <td>6.565722</td>\n",
       "    </tr>\n",
       "    <tr>\n",
       "      <th>13</th>\n",
       "      <td>lat</td>\n",
       "      <td>1.857910e-01</td>\n",
       "      <td>2.189857e-03</td>\n",
       "      <td>84.891693</td>\n",
       "    </tr>\n",
       "    <tr>\n",
       "      <th>14</th>\n",
       "      <td>long</td>\n",
       "      <td>-3.967285e-03</td>\n",
       "      <td>2.581106e-03</td>\n",
       "      <td>-1.683407</td>\n",
       "    </tr>\n",
       "    <tr>\n",
       "      <th>15</th>\n",
       "      <td>sqft_living15</td>\n",
       "      <td>8.630371e-02</td>\n",
       "      <td>3.662733e-03</td>\n",
       "      <td>23.449256</td>\n",
       "    </tr>\n",
       "    <tr>\n",
       "      <th>16</th>\n",
       "      <td>sqft_lot15</td>\n",
       "      <td>-6.652832e-03</td>\n",
       "      <td>3.006779e-03</td>\n",
       "      <td>-2.221750</td>\n",
       "    </tr>\n",
       "    <tr>\n",
       "      <th>17</th>\n",
       "      <td>intercept</td>\n",
       "      <td>1.304017e+01</td>\n",
       "      <td>2.105890e-03</td>\n",
       "      <td>6192.026600</td>\n",
       "    </tr>\n",
       "  </tbody>\n",
       "</table>\n",
       "</div>"
      ],
      "text/plain": [
       "        Atributos         Pesos            sd      Z-score\n",
       "0        bedrooms -1.137666e-02  3.256484e-03    -3.580185\n",
       "1       bathrooms  5.664423e-02  3.852958e-03    14.706149\n",
       "2     sqft_living -1.091202e+12  5.807004e+11    -1.922419\n",
       "3        sqft_lot  2.186016e-02  2.930036e-03     7.549545\n",
       "4          floors  3.741344e-02  3.090969e-03    11.986294\n",
       "5      waterfront  3.370060e-02  2.278501e-03    14.761486\n",
       "6            view  4.176399e-02  2.430885e-03    17.322679\n",
       "7       condition  4.571693e-02  2.218095e-03    20.306172\n",
       "8           grade  1.863173e-01  3.893343e-03    47.886550\n",
       "9      sqft_above  9.838574e+11  5.235751e+11     1.922419\n",
       "10  sqft_basement  5.258247e+11  2.798259e+11     1.922419\n",
       "11       yr_built -1.101074e-01  3.280177e-03   -33.672353\n",
       "12   yr_renovated  1.458740e-02  2.174547e-03     6.565722\n",
       "13            lat  1.857910e-01  2.189857e-03    84.891693\n",
       "14           long -3.967285e-03  2.581106e-03    -1.683407\n",
       "15  sqft_living15  8.630371e-02  3.662733e-03    23.449256\n",
       "16     sqft_lot15 -6.652832e-03  3.006779e-03    -2.221750\n",
       "17      intercept  1.304017e+01  2.105890e-03  6192.026600"
      ]
     },
     "execution_count": 8,
     "metadata": {},
     "output_type": "execute_result"
    }
   ],
   "source": [
    "import statsmodels.api as sm\n",
    "model = sm.OLS(ytrain,Xtrain).fit()\n",
    "predictions = model.predict(Xtrain)\n",
    "#model.summary()\n",
    "zscore_e = model.params/model.bse\n",
    "\n",
    "from scipy.stats import zscore as zs\n",
    "df_e = pd.DataFrame(zip(X.columns, linreg.coef_,model.bse,zscore_e,), columns = ['Atributos', 'Pesos', 'sd' ,'Z-score'])\n",
    "df_e"
   ]
  },
  {
   "cell_type": "code",
   "execution_count": 9,
   "metadata": {
    "collapsed": false,
    "deletable": true,
    "editable": true
   },
   "outputs": [
    {
     "data": {
      "text/plain": [
       "0.76531594743585996"
      ]
     },
     "execution_count": 9,
     "metadata": {},
     "output_type": "execute_result"
    }
   ],
   "source": [
    "model.rsquared"
   ]
  },
  {
   "cell_type": "markdown",
   "metadata": {
    "deletable": true,
    "editable": true
   },
   "source": [
    "f) Se tiene que las variables *'sqft_living'* y *'sqft_lot'* estan relacionadas con *'sqft_above'* y *'sqft_basement'* por lo que eliminar cualquiera de estos pares ayudaria a disminuir las variables redundantes, se probó eliminado un par y luego otro, finalmente se tiene que al sacar *'sqft_above'* y *'sqft_basement'* se obtiene un aumento en los *z-scores* del otro par por sobre el valor necesario para ser considerados importantes con un nivel de significancia del 5% (|z-score| > 1.960). Tambien se elimina la variable longitud ya que su *z-score* era menor a 1.960 por lo que no es importante con un 95% de confianza."
   ]
  },
  {
   "cell_type": "code",
   "execution_count": 10,
   "metadata": {
    "collapsed": false,
    "deletable": true,
    "editable": true
   },
   "outputs": [
    {
     "data": {
      "text/html": [
       "<div>\n",
       "<table border=\"1\" class=\"dataframe\">\n",
       "  <thead>\n",
       "    <tr style=\"text-align: right;\">\n",
       "      <th></th>\n",
       "      <th>Atributos</th>\n",
       "      <th>Pesos</th>\n",
       "      <th>sd</th>\n",
       "      <th>Z-score</th>\n",
       "    </tr>\n",
       "  </thead>\n",
       "  <tbody>\n",
       "    <tr>\n",
       "      <th>0</th>\n",
       "      <td>bedrooms</td>\n",
       "      <td>-0.008217</td>\n",
       "      <td>0.002725</td>\n",
       "      <td>-3.015137</td>\n",
       "    </tr>\n",
       "    <tr>\n",
       "      <th>1</th>\n",
       "      <td>bathrooms</td>\n",
       "      <td>0.057625</td>\n",
       "      <td>0.003769</td>\n",
       "      <td>15.287223</td>\n",
       "    </tr>\n",
       "    <tr>\n",
       "      <th>2</th>\n",
       "      <td>sqft_living</td>\n",
       "      <td>0.115111</td>\n",
       "      <td>0.004643</td>\n",
       "      <td>24.794540</td>\n",
       "    </tr>\n",
       "    <tr>\n",
       "      <th>3</th>\n",
       "      <td>sqft_lot</td>\n",
       "      <td>0.021568</td>\n",
       "      <td>0.002910</td>\n",
       "      <td>7.412081</td>\n",
       "    </tr>\n",
       "    <tr>\n",
       "      <th>4</th>\n",
       "      <td>floors</td>\n",
       "      <td>0.034430</td>\n",
       "      <td>0.002688</td>\n",
       "      <td>12.809832</td>\n",
       "    </tr>\n",
       "    <tr>\n",
       "      <th>5</th>\n",
       "      <td>waterfront</td>\n",
       "      <td>0.033372</td>\n",
       "      <td>0.002266</td>\n",
       "      <td>14.726030</td>\n",
       "    </tr>\n",
       "    <tr>\n",
       "      <th>6</th>\n",
       "      <td>view</td>\n",
       "      <td>0.043536</td>\n",
       "      <td>0.002370</td>\n",
       "      <td>18.367925</td>\n",
       "    </tr>\n",
       "    <tr>\n",
       "      <th>7</th>\n",
       "      <td>condition</td>\n",
       "      <td>0.045447</td>\n",
       "      <td>0.002196</td>\n",
       "      <td>20.694036</td>\n",
       "    </tr>\n",
       "    <tr>\n",
       "      <th>8</th>\n",
       "      <td>grade</td>\n",
       "      <td>0.185705</td>\n",
       "      <td>0.003799</td>\n",
       "      <td>48.886918</td>\n",
       "    </tr>\n",
       "    <tr>\n",
       "      <th>9</th>\n",
       "      <td>yr_built</td>\n",
       "      <td>-0.112323</td>\n",
       "      <td>0.003027</td>\n",
       "      <td>-37.106397</td>\n",
       "    </tr>\n",
       "    <tr>\n",
       "      <th>10</th>\n",
       "      <td>yr_renovated</td>\n",
       "      <td>0.014598</td>\n",
       "      <td>0.002145</td>\n",
       "      <td>6.805607</td>\n",
       "    </tr>\n",
       "    <tr>\n",
       "      <th>11</th>\n",
       "      <td>lat</td>\n",
       "      <td>0.186964</td>\n",
       "      <td>0.002157</td>\n",
       "      <td>86.683118</td>\n",
       "    </tr>\n",
       "    <tr>\n",
       "      <th>12</th>\n",
       "      <td>sqft_living15</td>\n",
       "      <td>0.083247</td>\n",
       "      <td>0.003527</td>\n",
       "      <td>23.603862</td>\n",
       "    </tr>\n",
       "    <tr>\n",
       "      <th>13</th>\n",
       "      <td>sqft_lot15</td>\n",
       "      <td>-0.007767</td>\n",
       "      <td>0.002972</td>\n",
       "      <td>-2.613409</td>\n",
       "    </tr>\n",
       "    <tr>\n",
       "      <th>14</th>\n",
       "      <td>intercept</td>\n",
       "      <td>13.039434</td>\n",
       "      <td>0.002094</td>\n",
       "      <td>6226.249950</td>\n",
       "    </tr>\n",
       "  </tbody>\n",
       "</table>\n",
       "</div>"
      ],
      "text/plain": [
       "        Atributos      Pesos        sd      Z-score\n",
       "0        bedrooms  -0.008217  0.002725    -3.015137\n",
       "1       bathrooms   0.057625  0.003769    15.287223\n",
       "2     sqft_living   0.115111  0.004643    24.794540\n",
       "3        sqft_lot   0.021568  0.002910     7.412081\n",
       "4          floors   0.034430  0.002688    12.809832\n",
       "5      waterfront   0.033372  0.002266    14.726030\n",
       "6            view   0.043536  0.002370    18.367925\n",
       "7       condition   0.045447  0.002196    20.694036\n",
       "8           grade   0.185705  0.003799    48.886918\n",
       "9        yr_built  -0.112323  0.003027   -37.106397\n",
       "10   yr_renovated   0.014598  0.002145     6.805607\n",
       "11            lat   0.186964  0.002157    86.683118\n",
       "12  sqft_living15   0.083247  0.003527    23.603862\n",
       "13     sqft_lot15  -0.007767  0.002972    -2.613409\n",
       "14      intercept  13.039434  0.002094  6226.249950"
      ]
     },
     "execution_count": 10,
     "metadata": {},
     "output_type": "execute_result"
    }
   ],
   "source": [
    "cols = [1,2,3,4,5,6,7,8,9,12,13,14,16,17]\n",
    "X_f = df_scaled.iloc[:,cols]\n",
    "N = X_f.shape[0] #Cantidad de filas\n",
    "X_f.insert(X_f.shape[1], 'intercept', np.ones(N)) #X.shape[1] = dimensionalidad de datos (18, incluyendo intercepto)\n",
    "y = df_scaled['price']\n",
    "\n",
    "\n",
    "#mascara estatica con el 70% de los datos\n",
    "mascara = np.zeros(len(X_f))\n",
    "limit = int(len(X_f)*0.7)\n",
    "mascara[:limit] = 1\n",
    "istrain = mascara == 1\n",
    "X_ftrain = X_f[istrain]\n",
    "X_ftest = X_f[np.logical_not(istrain)]\n",
    "\n",
    "linreg_f = lm.LinearRegression(fit_intercept = False)\n",
    "linreg_f.fit(X_ftrain, ytrain)\n",
    "y_pred = linreg.predict(Xtrain)\n",
    "y_pred_f = linreg_f.predict(X_ftrain)\n",
    "\n",
    "\n",
    "model_f = sm.OLS(ytrain,X_ftrain).fit()\n",
    "predictions_f = model_f.predict(X_ftrain)\n",
    "#model.summary()\n",
    "zscore_f = model_f.params/model_f.bse\n",
    "#zscore = df_f[df_f.select_dtypes(include=[np.number]).columns].apply(zs)\n",
    "df_f = pd.DataFrame(zip(X_f.columns, linreg_f.coef_,model_f.bse,zscore_f,), columns = ['Atributos', 'Pesos', 'sd' ,'Z-score'])\n",
    "\n",
    "\n",
    "rss0 = sum((y_pred-ytrain)**2)\n",
    "rss1 = sum((y_pred_f - ytrain)**2)\n",
    "p1 = X.shape[1]-1\n",
    "p0 = X_f.shape[1]-1\n",
    "F = ((rss0-rss1)/(p0-p1))/(rss1/(N-p1-1))\n",
    "#print(rss0, rss1, p1,p0,N,F)\n",
    "\n",
    "df_f"
   ]
  },
  {
   "cell_type": "code",
   "execution_count": 11,
   "metadata": {
    "collapsed": false,
    "deletable": true,
    "editable": true
   },
   "outputs": [
    {
     "data": {
      "text/plain": [
       "0.76733273107290334"
      ]
     },
     "execution_count": 11,
     "metadata": {},
     "output_type": "execute_result"
    }
   ],
   "source": [
    "model_f.rsquared"
   ]
  },
  {
   "cell_type": "markdown",
   "metadata": {
    "deletable": true,
    "editable": true
   },
   "source": [
    "g) Mientras mas *folds* se usen mas se reducira el error por bias pero mas aumentará el error por varianza, en caso contrario se tiene que mientras menos *folds* se usen mas se reduciara el error por varianza pero mas aumentara el error por bias. Al realizar la validación cruzada se obtuvo valores similares para el error cuadrático medio "
   ]
  },
  {
   "cell_type": "code",
   "execution_count": 12,
   "metadata": {
    "collapsed": false,
    "deletable": true,
    "editable": true
   },
   "outputs": [
    {
     "name": "stdout",
     "output_type": "stream",
     "text": [
      "folds = 5: 0.0651544673221\n",
      "0.756574794758\n",
      "folds = 10: 0.0650523961061\n",
      "0.73979708885\n"
     ]
    }
   ],
   "source": [
    "from sklearn.model_selection import KFold\n",
    "for i in range(0,2):\n",
    "    if i == 0:\n",
    "        kf = KFold(n_splits=5)\n",
    "    else:\n",
    "        kf = KFold(n_splits=10)\n",
    "    mse_cv = 0\n",
    "    for train, val in kf.split(X_f):\n",
    "        #corr = df_scaled.corr()['price'][df_scaled.corr()['price'] < 1 ].abs()\n",
    "        #corr.sort_values(ascending = False)\n",
    "        #features = corr.index[[0,1]].values\n",
    "        \n",
    "        train_x = X_f.iloc[train,:]; train_y = y[train]\n",
    "        test_x = X_f.iloc[val,:]; test_y = y[val]\n",
    "        linreg = lm.LinearRegression(fit_intercept = False)\n",
    "        linreg.fit(train_x, train_y)\n",
    "        yhat_val = linreg.predict(test_x)\n",
    "        mse_fold = np.mean(np.power(yhat_val - test_y, 2))\n",
    "        mse_cv += mse_fold\n",
    "    if i == 0:\n",
    "        mse_cv = mse_cv / 5\n",
    "        print('{}{}'.format(\"folds = 5: \", mse_cv))\n",
    "    else:\n",
    "        mse_cv = mse_cv / 10\n",
    "        print('{}{}'.format(\"folds = 10: \", mse_cv))\n",
    "    print(linreg.score(test_x,test_y))"
   ]
  },
  {
   "cell_type": "markdown",
   "metadata": {
    "deletable": true,
    "editable": true
   },
   "source": [
    "h) La distribucion es aparentemente normal con outliers en los extremos"
   ]
  },
  {
   "cell_type": "code",
   "execution_count": 13,
   "metadata": {
    "collapsed": false,
    "deletable": true,
    "editable": true
   },
   "outputs": [
    {
     "data": {
      "image/png": "[encoded data removed]",
      "text/plain": [
       "<matplotlib.figure.Figure at 0xc322ef0>"
      ]
     },
     "metadata": {},
     "output_type": "display_data"
    }
   ],
   "source": [
    "from sklearn.metrics import accuracy_score\n",
    "import pylab \n",
    "import scipy.stats as stats\n",
    "predictions = linreg_f.predict(X_ftest)\n",
    "residuos = ytest-predictions\n",
    "residuos\n",
    "stats.probplot(residuos, dist=\"norm\", plot= pylab)\n",
    "pylab.show()"
   ]
  },
  {
   "cell_type": "markdown",
   "metadata": {
    "deletable": true,
    "editable": true
   },
   "source": [
    "<h1>2. Selección de Atributos</h1>"
   ]
  },
  {
   "cell_type": "code",
   "execution_count": null,
   "metadata": {
    "collapsed": false,
    "deletable": true,
    "editable": true
   },
   "outputs": [],
   "source": [
    "def fss(x, y, names_x, k = 10000):\n",
    "    p = x.shape[1]-1\n",
    "    k = min(p, k)\n",
    "    names_x = np.array(names_x)\n",
    "    remaining = range(0, p)\n",
    "    selected = [p]\n",
    "    current_score = best_new_score = 0.0\n",
    "    while remaining and len(selected)<=k :\n",
    "        score_candidates = []\n",
    "        for candidate in remaining:\n",
    "            model = lm.LinearRegression(fit_intercept=False)\n",
    "            indexes = selected + [candidate]\n",
    "            x_train = x[:,indexes]\n",
    "            predictions_train = model.fit(x_train, y).predict(x_train)\n",
    "            residuals_train = predictions_train - y\n",
    "            mse_candidate = np.mean(np.power(residuals_train, 2))\n",
    "            score_candidates.append((mse_candidate, candidate))\n",
    "        score_candidates.sort()\n",
    "        score_candidates[:] = score_candidates[::-1]\n",
    "        best_new_score, best_candidate = score_candidates.pop()\n",
    "        remaining.remove(best_candidate)\n",
    "        selected.append(best_candidate)\n",
    "        print \"selected = %s ...\"%names_x[best_candidate]\n",
    "        print \"totalvars=%d, mse = %f\"%(len(indexes),best_new_score)\n",
    "    return selected\n",
    "\n",
    "names_regressors = X.columns[:-1] #without intercept\n",
    "fss(Xm,ym,names_regressors)"
   ]
  },
  {
   "cell_type": "markdown",
   "metadata": {
    "deletable": true,
    "editable": true
   },
   "source": [
    "<h1>3. Regularización</h1>"
   ]
  },
  {
   "cell_type": "markdown",
   "metadata": {
    "deletable": true,
    "editable": true
   },
   "source": [
    "<h1>4. Drift</h1>"
   ]
  },
  {
   "cell_type": "code",
   "execution_count": 15,
   "metadata": {
    "collapsed": false,
    "deletable": true,
    "editable": true
   },
   "outputs": [
    {
     "data": {
      "image/png": "[encoded data removed]",
      "text/plain": [
       "<matplotlib.figure.Figure at 0xef3b908>"
      ]
     },
     "metadata": {},
     "output_type": "display_data"
    },
    {
     "data": {
      "image/png": "[encoded data removed]",
      "text/plain": [
       "<matplotlib.figure.Figure at 0xef3ba20>"
      ]
     },
     "metadata": {},
     "output_type": "display_data"
    }
   ],
   "source": [
    "import matplotlib.pyplot as plt\n",
    "df_A = df_scaled.sample(1000,random_state=11)\n",
    "frames = []\n",
    "valor = df_scaled.price\n",
    "length = 0.3\n",
    "for z in np.arange(int(np.min(valor)),int(np.max(valor))+1,length):\n",
    "    #un maximo de 100 datos por intervalo\n",
    "    aux = df_scaled[(df_scaled.price >= z) & (df_scaled.price < z+length)].head(100)\n",
    "    frames.append(aux)\n",
    "df_B = pd.concat(frames).sample(1000,random_state=11) #crea el dataframe\n",
    "df_A['price'].hist(bins=12)\n",
    "plt.show()\n",
    "df_B['price'].hist(bins=12)\n",
    "plt.show()"
   ]
  },
  {
   "cell_type": "code",
   "execution_count": 8,
   "metadata": {
    "collapsed": true,
    "deletable": true,
    "editable": true
   },
   "outputs": [],
   "source": [
    "X_A = df_A.iloc[:,1:].values\n",
    "y_A = df_A.price\n",
    "X_B = df_B.iloc[:,1:].values\n",
    "y_B = df_B.price\n",
    "from sklearn.model_selection import train_test_split\n",
    "Xtrain_A,Xval_A,ytrain_A,yval_A = train_test_split(X_A, y_A, test_size=0.3, random_state=42)\n",
    "Xtrain_B,Xval_B,ytrain_B,yval_B = train_test_split(X_B, y_B, test_size=0.3, random_state=42)"
   ]
  },
  {
   "cell_type": "markdown",
   "metadata": {
    "deletable": true,
    "editable": true
   },
   "source": [
    "b) Para esta parte se entrenan datos"
   ]
  },
  {
   "cell_type": "code",
   "execution_count": 12,
   "metadata": {
    "collapsed": false,
    "deletable": true,
    "editable": true
   },
   "outputs": [
    {
     "name": "stdout",
     "output_type": "stream",
     "text": [
      "R^2 A: -526.211264682\n",
      "R^2 B: -124.685102287\n",
      "mse_AA: 174.484191836\n",
      "mse_AB: 194.917089598\n",
      "mse_BB: 125.825255554\n",
      "mse_BA: 189.823400561\n",
      "\n"
     ]
    }
   ],
   "source": [
    "import sklearn.linear_model as lm\n",
    "from sklearn.metrics import mean_squared_error\n",
    "linreg_AA = lm.LinearRegression(fit_intercept = False)\n",
    "linreg_AB = lm.LinearRegression(fit_intercept = False)\n",
    "linreg_BA = lm.LinearRegression(fit_intercept = False)\n",
    "linreg_BB = lm.LinearRegression(fit_intercept = False)\n",
    "linreg_AA.fit(Xtrain_A, ytrain_A)\n",
    "linreg_BB.fit(Xtrain_B, ytrain_B)\n",
    "pred_AA = linreg_AA.predict(Xval_A)\n",
    "pred_AB = linreg_AA.predict(Xval_B)\n",
    "pred_BB = linreg_BB.predict(Xval_B)\n",
    "pred_BA = linreg_BB.predict(Xval_A)\n",
    "mse_AA = mean_squared_error(pred_AA, yval_A)\n",
    "mse_AB = mean_squared_error(pred_AB, yval_A)\n",
    "mse_BB = mean_squared_error(pred_BB, yval_B)\n",
    "mse_BA = mean_squared_error(pred_BA, yval_B)\n",
    "print('R^2 A: {}'.format(linreg_AA.score(Xval_A,yval_A)))\n",
    "print('R^2 B: {}'.format(linreg_BB.score(Xval_B,yval_B)))\n",
    "print('mse_AA: {}\\nmse_AB: {}\\nmse_BB: {}\\nmse_BA: {}\\n'.format(mse_AA, mse_AB, mse_BB, mse_BA))\n"
   ]
  },
  {
   "cell_type": "markdown",
   "metadata": {
    "deletable": true,
    "editable": true
   },
   "source": [
    "c)"
   ]
  },
  {
   "cell_type": "markdown",
   "metadata": {
    "deletable": true,
    "editable": true
   },
   "source": [
    "<h1>5. Detectar enfermedades cardiacas</h1>"
   ]
  },
  {
   "cell_type": "code",
   "execution_count": null,
   "metadata": {
    "collapsed": true,
    "deletable": true,
    "editable": true
   },
   "outputs": [],
   "source": [
    "headers = ['age','sex','chest_pain','blood_p','serum','blood_s','electro','max_heart', 'angina','oldpeak','slope',\\\n",
    "           'vessel','thal','normal']\n",
    "df = pd.read_csv(\"heart.dat\", header=None, names=headers, sep=' ')\n",
    "\n",
    "from sklearn.preprocessing import StandardScaler\n",
    "scaler = StandardScaler()\n",
    "df_scaled = pd.DataFrame(scaler.fit_transform(df), columns=df.columns)\n",
    "\n",
    "import sklearn.linear_model as lm\n",
    "X = df_scaled.iloc[:,:] #use .ix instead, in older pandas version //Se consideran todas las filas y columnas menos 'price'\n",
    "N = X.shape[0] #Cantidad de filas\n",
    "X.insert(X.shape[1], 'intercept', np.ones(N))\n",
    "y = df_scaled['normal']\n",
    "\n",
    "#mascara estatica con el 70% de los datos\n",
    "mascara = np.zeros(len(X))\n",
    "limit = int(len(X)*0.7)\n",
    "mascara[:limit] = 1\n",
    "istrain = mascara == 1\n",
    "Xtrain = X[istrain]\n",
    "ytrain = y[istrain]\n",
    "Xtest = X[np.logical_not(istrain)]\n",
    "ytest = y[np.logical_not(istrain)]\n",
    "\n",
    "linreg = lm.LinearRegression(fit_intercept = False)\n",
    "linreg.fit(Xtrain, ytrain)\n",
    "\n",
    "from sklearn.metrics import accuracy_score\n",
    "print \"Score: \"%(accuracy_score(y_outlier,y_predict_outlier)"
   ]
  }
 ],
 "metadata": {
  "kernelspec": {
   "display_name": "Python 2",
   "language": "python",
   "name": "python2"
  },
  "language_info": {
   "codemirror_mode": {
    "name": "ipython",
    "version": 2
   },
   "file_extension": ".py",
   "mimetype": "text/x-python",
   "name": "python",
   "nbconvert_exporter": "python",
   "pygments_lexer": "ipython2",
   "version": "2.7.13"
  }
 },
 "nbformat": 4,
 "nbformat_minor": 2
}
